{
 "cells": [
  {
   "cell_type": "markdown",
   "id": "ce2fec19-7de5-443f-8437-8337e48382e9",
   "metadata": {},
   "source": [
    "### Q1, Create a vehicle class with an init method having instance variables as name_of_vehicle, max_speed and average_of_vehicle."
   ]
  },
  {
   "cell_type": "code",
   "execution_count": 28,
   "id": "875a359e-9a50-4562-bc36-d213771362ba",
   "metadata": {},
   "outputs": [],
   "source": [
    "class vehicle:\n",
    "    def __init__(self, name_of_vehicle, max_speed, average_of_vehicle):\n",
    "        self.name_of_vehicle = name_of_vehicle\n",
    "        self.max_speed = max_speed\n",
    "        self.average_of_vehicle = average_of_vehicle\n",
    "        \n",
    "        \n",
    "    def specifications_of_vehicle(self):\n",
    "        return  self.name_of_vehicle, self.max_speed , self.average_of_vehicle "
   ]
  },
  {
   "cell_type": "code",
   "execution_count": 29,
   "id": "aa5c88e9-8702-4a7f-9878-6910546521b9",
   "metadata": {},
   "outputs": [],
   "source": [
    "veh = vehicle(\"Toyota Innova\", 200, \"20 kmpl\")"
   ]
  },
  {
   "cell_type": "code",
   "execution_count": 30,
   "id": "c50cae8e-65a2-4692-ba74-0948b97cee46",
   "metadata": {},
   "outputs": [
    {
     "data": {
      "text/plain": [
       "('Toyota Innova', 200, '20 kmpl')"
      ]
     },
     "execution_count": 30,
     "metadata": {},
     "output_type": "execute_result"
    }
   ],
   "source": [
    "veh.specifications_of_vehicle()"
   ]
  },
  {
   "cell_type": "markdown",
   "id": "e8416db2-fe75-4431-a60d-0bf80adbaa6d",
   "metadata": {},
   "source": [
    "### Q2. Create a child class car from the vehicle class created in Que 1, which will inherit the vehicle class. Create a method named seating_capacity which takes capacity as an argument and returns the name of the vehicle and its seating capacity."
   ]
  },
  {
   "cell_type": "code",
   "execution_count": 44,
   "id": "3ee2769c-1f46-4055-8750-01d3e1392966",
   "metadata": {},
   "outputs": [],
   "source": [
    "class car(vehicle) : \n",
    "\n",
    "    def seating_capacity(self, capacity) :\n",
    "        return self.name_of_vehicle, capacity"
   ]
  },
  {
   "cell_type": "code",
   "execution_count": 45,
   "id": "df0e3182-8bfa-4c8e-8f91-8cd3989ceb73",
   "metadata": {},
   "outputs": [],
   "source": [
    "veh2 = car(\"Toyota Innova\", 200, \"20 kmpl\")"
   ]
  },
  {
   "cell_type": "code",
   "execution_count": 46,
   "id": "14a67716-6963-49d5-b90a-bb8cdae57531",
   "metadata": {},
   "outputs": [
    {
     "data": {
      "text/plain": [
       "('Toyota Innova', 7)"
      ]
     },
     "execution_count": 46,
     "metadata": {},
     "output_type": "execute_result"
    }
   ],
   "source": [
    "veh2.seating_capacity(7)\n"
   ]
  },
  {
   "cell_type": "markdown",
   "id": "396f8ae2-a854-47aa-ae51-d1381a4cfa0c",
   "metadata": {},
   "source": [
    "### Q3. What is multiple inheritance? Write a python code to demonstrate multiple inheritance."
   ]
  },
  {
   "cell_type": "markdown",
   "id": "2930b6e3-7152-43b5-85b2-7f329d7d8559",
   "metadata": {},
   "source": [
    "In multiple inheritance one or more classes are being assessed through anohter class."
   ]
  },
  {
   "cell_type": "code",
   "execution_count": 49,
   "id": "a9afd9bd-d465-4601-8857-60d4b3c9ee8a",
   "metadata": {},
   "outputs": [],
   "source": [
    "class mom:\n",
    "    def mother(self, mother_name):\n",
    "        self.mother_name = mother_name\n",
    "        \n",
    "class papa:\n",
    "    def father(self, father_name):\n",
    "        self.father_name\n",
    "        \n",
    "class son (mom,papa):\n",
    "    def parent(self, son_name):\n",
    "        self.son_name = son_name"
   ]
  },
  {
   "cell_type": "code",
   "execution_count": 50,
   "id": "d886e59f-353a-4b4d-9f02-bfaaef3955c7",
   "metadata": {},
   "outputs": [],
   "source": [
    "s= son()"
   ]
  },
  {
   "cell_type": "code",
   "execution_count": 52,
   "id": "d4387546-e419-4ad4-b570-c7222902b57f",
   "metadata": {},
   "outputs": [],
   "source": [
    "s.father = \"Rajesh\"\n",
    "s.mother = \"Kamla\""
   ]
  },
  {
   "cell_type": "code",
   "execution_count": 57,
   "id": "0bc5fc1f-76fe-4442-97cb-eca4fdde3c00",
   "metadata": {},
   "outputs": [
    {
     "data": {
      "text/plain": [
       "'Rajesh'"
      ]
     },
     "execution_count": 57,
     "metadata": {},
     "output_type": "execute_result"
    }
   ],
   "source": [
    "s.father"
   ]
  },
  {
   "cell_type": "markdown",
   "id": "925ea7ab-81fd-46e2-84c6-5b3417b79b70",
   "metadata": {},
   "source": [
    "### Q4. What are getter and setter in python? Create a class and create a getter and a setter method in this class."
   ]
  },
  {
   "cell_type": "markdown",
   "id": "15bb5a47-7b00-4865-8321-05859245ffa7",
   "metadata": {},
   "source": [
    "Getter and setter are parts of @property_decorator. Some objects or arguments are protected by coder to protect it from outsiders and when the coder wants to give access to see the arguments to outsiders, coder use property decorator.\n",
    "\n",
    "With the help of setter, coder gives access to outsiders. \n",
    "\n",
    "With the help of setter, coder gives access to ousiders to over-write the value of given argument."
   ]
  },
  {
   "cell_type": "code",
   "execution_count": 88,
   "id": "c8063e8f-fde6-450b-955e-b03465ac8d6f",
   "metadata": {},
   "outputs": [],
   "source": [
    "class super_market:\n",
    "    def __init__(self, milk_price):\n",
    "        self.__milk_price = milk_price\n",
    "        \n",
    "    @property\n",
    "    def milk_price_access(self):\n",
    "        return self.__milk_price\n",
    "\n",
    "    @milk_price_access.setter\n",
    "    def milk_price_set(self, price):\n",
    "        self.__milk_price = price\n",
    "    "
   ]
  },
  {
   "cell_type": "code",
   "execution_count": 89,
   "id": "d92625b6-f8ed-4202-a991-baf00eba1e54",
   "metadata": {},
   "outputs": [],
   "source": [
    "s = super_market(70)"
   ]
  },
  {
   "cell_type": "code",
   "execution_count": 90,
   "id": "81171791-abe1-48bc-8df0-5d7f014c37b7",
   "metadata": {},
   "outputs": [
    {
     "data": {
      "text/plain": [
       "70"
      ]
     },
     "execution_count": 90,
     "metadata": {},
     "output_type": "execute_result"
    }
   ],
   "source": [
    "s.milk_price_access"
   ]
  },
  {
   "cell_type": "code",
   "execution_count": 92,
   "id": "4b59cd69-751b-428b-8047-1b43c05883a5",
   "metadata": {},
   "outputs": [],
   "source": [
    "s.milk_price_set = 100"
   ]
  },
  {
   "cell_type": "code",
   "execution_count": 93,
   "id": "84bc148e-5a1b-4984-b464-7d22dd510c9a",
   "metadata": {},
   "outputs": [
    {
     "data": {
      "text/plain": [
       "100"
      ]
     },
     "execution_count": 93,
     "metadata": {},
     "output_type": "execute_result"
    }
   ],
   "source": [
    "s.milk_price_access"
   ]
  },
  {
   "cell_type": "code",
   "execution_count": null,
   "id": "8a31ca54-f82e-468c-a9e9-25a768a265c0",
   "metadata": {},
   "outputs": [],
   "source": []
  },
  {
   "cell_type": "markdown",
   "id": "5bcd4c02-4e43-497d-ba57-1d98b8e5d08b",
   "metadata": {},
   "source": [
    "### Q5.What is method overriding in python? Write a python code to demonstrate method overriding."
   ]
  },
  {
   "cell_type": "markdown",
   "id": "44e8bd42-d436-4c6d-9c54-941267f2170a",
   "metadata": {},
   "source": [
    "Any object-oriented programming language can allow a subclass or child class to offer a customized implementation of a method already supplied by one of its superclasses or parent classes. This capability is known as method overriding. The term \"override\" refers to a method in a subclass that replaces a method in a superclass when both methods share the same name, parameters, signature, and return type."
   ]
  },
  {
   "cell_type": "code",
   "execution_count": 87,
   "id": "820a4766-666b-4fe2-b77c-501a1f931de0",
   "metadata": {},
   "outputs": [
    {
     "name": "stdout",
     "output_type": "stream",
     "text": [
      "Inside Parent\n",
      "Inside Child\n"
     ]
    }
   ],
   "source": [
    "# program to determine the method overriding  \n",
    "# Defining a parent class  \n",
    "class Parent():  \n",
    "    # producer  \n",
    "    def __init__(self):  \n",
    "        self.value = \"Inside Parent\"  \n",
    "    # showing a parents method  \n",
    "    def show(self):  \n",
    "        print(self.value)         \n",
    "# Defining a child class  \n",
    "class Child(Parent):      \n",
    "    # Constructor  \n",
    "    def __init__(self):  \n",
    "        self.value = \"Inside Child\"       \n",
    "    # showing the child's method  \n",
    "    def show(self):  \n",
    "        print(self.value)  \n",
    "# Chauffeur's code  \n",
    "obj1 = Parent()  \n",
    "obj2 = Child()  \n",
    "obj1.show()  \n",
    "obj2.show()  "
   ]
  },
  {
   "cell_type": "code",
   "execution_count": null,
   "id": "81e26b69-41da-4af3-82b7-842a2e0225d9",
   "metadata": {},
   "outputs": [],
   "source": []
  }
 ],
 "metadata": {
  "kernelspec": {
   "display_name": "Python 3 (ipykernel)",
   "language": "python",
   "name": "python3"
  },
  "language_info": {
   "codemirror_mode": {
    "name": "ipython",
    "version": 3
   },
   "file_extension": ".py",
   "mimetype": "text/x-python",
   "name": "python",
   "nbconvert_exporter": "python",
   "pygments_lexer": "ipython3",
   "version": "3.10.8"
  }
 },
 "nbformat": 4,
 "nbformat_minor": 5
}
