{
 "cells": [
  {
   "cell_type": "markdown",
   "id": "abe9b160-44ac-4900-ae53-241277fb5c12",
   "metadata": {},
   "source": [
    "1). def keyword is used to crete a function"
   ]
  },
  {
   "cell_type": "code",
   "execution_count": 6,
   "id": "0eb60a1d-c5c4-457c-8bd3-51a474db2a94",
   "metadata": {},
   "outputs": [
    {
     "data": {
      "text/plain": [
       "[1, 3, 5, 7, 9, 11, 13, 15, 17, 19, 21, 23, 25]"
      ]
     },
     "execution_count": 6,
     "metadata": {},
     "output_type": "execute_result"
    }
   ],
   "source": [
    "a = list(range(1,26))\n",
    "list(filter(lambda x: x%2!=0, a))"
   ]
  },
  {
   "cell_type": "markdown",
   "id": "7763a270-743c-4933-8a4d-63d0bd93b834",
   "metadata": {},
   "source": [
    "2). *arg is used for the to give n number of arguments (n: can be any number). Here arg is nothing, in place it anything can be written. Main is ' * ' which gives the liberty to give n arguments.\n",
    "\n",
    "**kwargs: It helps to create a dictionary. It takes arguments as key and value."
   ]
  },
  {
   "cell_type": "code",
   "execution_count": 10,
   "id": "805a78cc-7504-475e-96d8-b1276f1cb9f6",
   "metadata": {},
   "outputs": [],
   "source": [
    "def hello(*arg):\n",
    "    return arg"
   ]
  },
  {
   "cell_type": "code",
   "execution_count": 11,
   "id": "c2f9be66-6bca-43dd-bb06-c284797673b8",
   "metadata": {},
   "outputs": [
    {
     "data": {
      "text/plain": [
       "[1, 2, 34, 'Arman', [4, 5, 66, 77], (44, 55, 66, 34)]"
      ]
     },
     "execution_count": 11,
     "metadata": {},
     "output_type": "execute_result"
    }
   ],
   "source": [
    "list(hello(1,2,34,'Arman',[4,5,66,77],(44,55,66,34)))"
   ]
  },
  {
   "cell_type": "code",
   "execution_count": 38,
   "id": "6a7d26b3-ac9c-40dc-920a-dc32056324e0",
   "metadata": {},
   "outputs": [],
   "source": [
    "def test(*arg):\n",
    "    l=[]\n",
    "    for i in arg:\n",
    "        if type(i)==int:\n",
    "            l.append(i)\n",
    "    return l"
   ]
  },
  {
   "cell_type": "code",
   "execution_count": 39,
   "id": "006e47f4-e6b5-440b-9af6-64d0e5414a90",
   "metadata": {},
   "outputs": [
    {
     "data": {
      "text/plain": [
       "[1, 2, 34]"
      ]
     },
     "execution_count": 39,
     "metadata": {},
     "output_type": "execute_result"
    }
   ],
   "source": [
    "test(1,2,34,'Arman',[4,5,66,77],(44,55,66,34))"
   ]
  },
  {
   "cell_type": "markdown",
   "id": "534e296d-8119-4d57-a26f-feb43261b8f1",
   "metadata": {},
   "source": []
  },
  {
   "cell_type": "code",
   "execution_count": 14,
   "id": "44b2a647-423f-4eb6-9d3c-32a688303614",
   "metadata": {},
   "outputs": [],
   "source": [
    "def zed(**kwarg):\n",
    "    return kwarg"
   ]
  },
  {
   "cell_type": "code",
   "execution_count": 15,
   "id": "08a7fd30-9d2b-4c59-a8a8-3a1f3a46bcd9",
   "metadata": {},
   "outputs": [
    {
     "data": {
      "text/plain": [
       "{'a': 'pwskills', 'b': 'Arman', 'c': (12, 34, 56), 'd': [33, 44, 55, 66]}"
      ]
     },
     "execution_count": 15,
     "metadata": {},
     "output_type": "execute_result"
    }
   ],
   "source": [
    "zed(a= 'pwskills',b='Arman',c=(12,34,56),d=[33,44,55,66])"
   ]
  },
  {
   "cell_type": "code",
   "execution_count": 32,
   "id": "a90848d0-7713-4b31-996e-7c6245db74fb",
   "metadata": {},
   "outputs": [],
   "source": [
    "def zed1(**kwargs):\n",
    "    for i in kwargs.keys():\n",
    "        if type(kwargs[i]) == list:\n",
    "            return i, kwargs[i]\n",
    "    "
   ]
  },
  {
   "cell_type": "code",
   "execution_count": 33,
   "id": "9dbdbc39-e1b0-4b01-8392-1035b85b982c",
   "metadata": {},
   "outputs": [
    {
     "data": {
      "text/plain": [
       "('e', [4, 5, 66, 77])"
      ]
     },
     "execution_count": 33,
     "metadata": {},
     "output_type": "execute_result"
    }
   ],
   "source": [
    "zed1(a=1,b=2,c=34,d='Arman',e=[4,5,66,77],f=(44,55,66,34))"
   ]
  },
  {
   "cell_type": "markdown",
   "id": "cc137f04-95f0-402a-ad56-c667c3297d36",
   "metadata": {},
   "source": [
    "3). Iterator are those which help to extract data from a given argument like list, tuple,dict,set.\n",
    "\n",
    "for loops is one of the example of iterator."
   ]
  },
  {
   "cell_type": "code",
   "execution_count": null,
   "id": "937f4dfd-0314-4c56-a841-558b60a6983d",
   "metadata": {},
   "outputs": [
    {
     "name": "stdout",
     "output_type": "stream",
     "text": [
      "2\n",
      "4\n",
      "6\n",
      "8\n",
      "10\n"
     ]
    }
   ],
   "source": [
    "l= [2,4,6,8,10,12,14,16,18,20]\n",
    "for i in l:\n",
    "    if i == 12:\n",
    "        break\n",
    "    print(i)"
   ]
  },
  {
   "cell_type": "markdown",
   "id": "18966cd3-148f-4d3c-8d94-b2f3104bb86b",
   "metadata": {},
   "source": [
    "4). A generator function allows to create a function that behave like an iterator, which provies a faster way to create an iterator."
   ]
  },
  {
   "cell_type": "markdown",
   "id": "c2a87af7-778a-40e1-b6e0-e454e2bef6de",
   "metadata": {},
   "source": [
    "Keyword yield is used to return a list values of function. Unlike the return it don't stop, it stops after completing the whole function."
   ]
  },
  {
   "cell_type": "code",
   "execution_count": 2,
   "id": "f2e6b18d-6854-45ee-aff7-1a4989eb4b32",
   "metadata": {},
   "outputs": [],
   "source": [
    "def my_gen(some_value):\n",
    "    print(\" start generating\")\n",
    "    for i in range(some_value): \n",
    "        print(\"value before yield\", i)\n",
    "        yield i\n",
    "        print(\"after yield\", i)\n",
    "    print(\"Generator is complete…\")"
   ]
  },
  {
   "cell_type": "code",
   "execution_count": 4,
   "id": "b42b5fa8-0578-4490-b206-f8684b8e2ae4",
   "metadata": {},
   "outputs": [
    {
     "name": "stdout",
     "output_type": "stream",
     "text": [
      " start generating\n",
      "value before yield 0\n",
      "after yield 0\n",
      "value before yield 1\n",
      "after yield 1\n",
      "value before yield 2\n",
      "after yield 2\n",
      "value before yield 3\n",
      "after yield 3\n",
      "value before yield 4\n",
      "after yield 4\n",
      "value before yield 5\n",
      "after yield 5\n",
      "value before yield 6\n",
      "after yield 6\n",
      "value before yield 7\n",
      "after yield 7\n",
      "value before yield 8\n",
      "after yield 8\n",
      "value before yield 9\n",
      "after yield 9\n",
      "Generator is complete…\n"
     ]
    },
    {
     "data": {
      "text/plain": [
       "[0, 1, 2, 3, 4, 5, 6, 7, 8, 9]"
      ]
     },
     "execution_count": 4,
     "metadata": {},
     "output_type": "execute_result"
    }
   ],
   "source": [
    "list(my_gen(10))"
   ]
  },
  {
   "cell_type": "markdown",
   "id": "e95f4a19-37b2-4e6c-9b95-24caaeaafea5",
   "metadata": {},
   "source": [
    "5). Create a generator function for prime numbers less than 1000. Use the next() method to print the first 20 prime numbers."
   ]
  },
  {
   "cell_type": "code",
   "execution_count": 1,
   "id": "09facfc0-b2b2-45f7-8f9a-6a111560016f",
   "metadata": {},
   "outputs": [],
   "source": [
    "def is_prime(n):\n",
    "    \"\"\"Function to check if a number is prime.\"\"\"\n",
    "    if n <= 1:\n",
    "        return False\n",
    "    if n == 2:\n",
    "        return True  # 2 is prime\n",
    "    if n % 2 == 0:\n",
    "        return False  # other even numbers are not prime\n",
    "    for i in range(3, int(n**0.5) + 1, 2):\n",
    "        if n % i == 0:\n",
    "            return False\n",
    "    return True"
   ]
  },
  {
   "cell_type": "code",
   "execution_count": 2,
   "id": "31ddcd46-cc18-416f-bab0-86fef07f5485",
   "metadata": {},
   "outputs": [
    {
     "data": {
      "text/plain": [
       "True"
      ]
     },
     "execution_count": 2,
     "metadata": {},
     "output_type": "execute_result"
    }
   ],
   "source": [
    "is_prime(5)"
   ]
  },
  {
   "cell_type": "code",
   "execution_count": 3,
   "id": "d09bd9d5-2666-41b4-9a44-7b4f25660b0b",
   "metadata": {},
   "outputs": [],
   "source": [
    "def prime_generator():\n",
    "    \"\"\"Generator function to yield prime numbers less than 1000.\"\"\"\n",
    "    num = 2\n",
    "    while num < 1000:\n",
    "        if is_prime(num):\n",
    "            yield num\n",
    "        num += 1"
   ]
  },
  {
   "cell_type": "code",
   "execution_count": 4,
   "id": "b388ba02-b7f8-48af-86d2-83812e240cf8",
   "metadata": {},
   "outputs": [
    {
     "name": "stdout",
     "output_type": "stream",
     "text": [
      "[2, 3, 5, 7, 11, 13, 17, 19, 23, 29, 31, 37, 41, 43, 47, 53, 59, 61, 67, 71, 73, 79, 83, 89, 97, 101, 103, 107, 109, 113, 127, 131, 137, 139, 149, 151, 157, 163, 167, 173, 179, 181, 191, 193, 197, 199, 211, 223, 227, 229, 233, 239, 241, 251, 257, 263, 269, 271, 277, 281, 283, 293, 307, 311, 313, 317, 331, 337, 347, 349, 353, 359, 367, 373, 379, 383, 389, 397, 401, 409, 419, 421, 431, 433, 439, 443, 449, 457, 461, 463, 467, 479, 487, 491, 499, 503, 509, 521, 523, 541, 547, 557, 563, 569, 571, 577, 587, 593, 599, 601, 607, 613, 617, 619, 631, 641, 643, 647, 653, 659, 661, 673, 677, 683, 691, 701, 709, 719, 727, 733, 739, 743, 751, 757, 761, 769, 773, 787, 797, 809, 811, 821, 823, 827, 829, 839, 853, 857, 859, 863, 877, 881, 883, 887, 907, 911, 919, 929, 937, 941, 947, 953, 967, 971, 977, 983, 991, 997]"
     ]
    }
   ],
   "source": [
    "d = list(prime_generator())\n",
    "print(d, end='')"
   ]
  },
  {
   "cell_type": "code",
   "execution_count": 5,
   "id": "53377794-1361-4bd5-9c51-9900bad2017c",
   "metadata": {},
   "outputs": [
    {
     "name": "stdout",
     "output_type": "stream",
     "text": [
      "2\n",
      "3\n",
      "5\n",
      "7\n",
      "11\n",
      "13\n",
      "17\n",
      "19\n",
      "23\n",
      "29\n",
      "31\n",
      "37\n",
      "41\n",
      "43\n",
      "47\n",
      "53\n",
      "59\n",
      "61\n",
      "67\n",
      "71\n"
     ]
    }
   ],
   "source": [
    "# Using next() method to print the first 20 prime numbers\n",
    "prime_gen = prime_generator()\n",
    "for _ in range(20):\n",
    "    print(next(prime_gen))"
   ]
  },
  {
   "cell_type": "code",
   "execution_count": null,
   "id": "3da9ea15-8be8-40cc-bad4-8918694f2458",
   "metadata": {},
   "outputs": [],
   "source": []
  }
 ],
 "metadata": {
  "kernelspec": {
   "display_name": "Python 3 (ipykernel)",
   "language": "python",
   "name": "python3"
  },
  "language_info": {
   "codemirror_mode": {
    "name": "ipython",
    "version": 3
   },
   "file_extension": ".py",
   "mimetype": "text/x-python",
   "name": "python",
   "nbconvert_exporter": "python",
   "pygments_lexer": "ipython3",
   "version": "3.10.8"
  }
 },
 "nbformat": 4,
 "nbformat_minor": 5
}
