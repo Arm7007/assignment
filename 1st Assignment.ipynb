{
 "cells": [
  {
   "cell_type": "code",
   "execution_count": 1,
   "id": "95b1c881-9a94-4de8-acb4-3399e3f377f3",
   "metadata": {},
   "outputs": [],
   "source": [
    "#1.1 string\n",
    "a=\"it's Arm\""
   ]
  },
  {
   "cell_type": "code",
   "execution_count": 2,
   "id": "dae1892d-b292-4da3-9117-6bc359498dbd",
   "metadata": {},
   "outputs": [
    {
     "data": {
      "text/plain": [
       "str"
      ]
     },
     "execution_count": 2,
     "metadata": {},
     "output_type": "execute_result"
    }
   ],
   "source": [
    "type(a)"
   ]
  },
  {
   "cell_type": "code",
   "execution_count": 4,
   "id": "e8dd2167-2719-4337-aa60-2734416f1cc8",
   "metadata": {},
   "outputs": [],
   "source": [
    "#1.2 list\n",
    "b=[22,33.45,56,67,'arm','hello', 2+3j, 5.6]"
   ]
  },
  {
   "cell_type": "code",
   "execution_count": 5,
   "id": "dd829454-4d60-484f-864f-8d961ea66e6a",
   "metadata": {},
   "outputs": [
    {
     "data": {
      "text/plain": [
       "list"
      ]
     },
     "execution_count": 5,
     "metadata": {},
     "output_type": "execute_result"
    }
   ],
   "source": [
    "type(b)"
   ]
  },
  {
   "cell_type": "code",
   "execution_count": 6,
   "id": "3af64660-9202-4afa-9ef4-eeb1dd28d0a5",
   "metadata": {},
   "outputs": [],
   "source": [
    "#1.3 float\n",
    "c=7.9"
   ]
  },
  {
   "cell_type": "code",
   "execution_count": 7,
   "id": "cdb2cece-dad8-415a-8a05-f2cab9a5d4a6",
   "metadata": {},
   "outputs": [
    {
     "data": {
      "text/plain": [
       "float"
      ]
     },
     "execution_count": 7,
     "metadata": {},
     "output_type": "execute_result"
    }
   ],
   "source": [
    "type(c)"
   ]
  },
  {
   "cell_type": "code",
   "execution_count": 8,
   "id": "f9395d4d-ca9b-43d4-a1e1-2a3dbb3ad9ca",
   "metadata": {},
   "outputs": [],
   "source": [
    "#1.4 tuple\n",
    "d= (34,45,'hello')"
   ]
  },
  {
   "cell_type": "code",
   "execution_count": 9,
   "id": "807de9d5-55e7-48af-8efa-42bf0fc5b3a1",
   "metadata": {},
   "outputs": [
    {
     "data": {
      "text/plain": [
       "tuple"
      ]
     },
     "execution_count": 9,
     "metadata": {},
     "output_type": "execute_result"
    }
   ],
   "source": [
    "type(d)"
   ]
  },
  {
   "cell_type": "code",
   "execution_count": 11,
   "id": "0ac3eccb-3e16-4d1a-bc18-1db851491a9b",
   "metadata": {},
   "outputs": [],
   "source": [
    "\"\"\"2.1: it is a string data type\n",
    "2.2:it is a string\n",
    "2.3: it is a list \n",
    "2.4: it is an integer\"\"\"\n",
    "\n",
    "# 2.1\n",
    "var1= ''"
   ]
  },
  {
   "cell_type": "code",
   "execution_count": 12,
   "id": "8e01a499-58d6-4df6-8aee-dca91ab852b6",
   "metadata": {},
   "outputs": [
    {
     "data": {
      "text/plain": [
       "str"
      ]
     },
     "execution_count": 12,
     "metadata": {},
     "output_type": "execute_result"
    }
   ],
   "source": [
    "type(var1)"
   ]
  },
  {
   "cell_type": "code",
   "execution_count": 13,
   "id": "86e9805a-5734-4591-885f-8b84cdad5d9e",
   "metadata": {},
   "outputs": [],
   "source": [
    "\n",
    "var2='[DS, ML, Python]'"
   ]
  },
  {
   "cell_type": "code",
   "execution_count": 14,
   "id": "d1440ff3-50fb-4eaa-a563-f69973124df1",
   "metadata": {},
   "outputs": [
    {
     "data": {
      "text/plain": [
       "str"
      ]
     },
     "execution_count": 14,
     "metadata": {},
     "output_type": "execute_result"
    }
   ],
   "source": [
    "type(var2)"
   ]
  },
  {
   "cell_type": "code",
   "execution_count": 15,
   "id": "f54f4717-b9e5-464a-8a24-23794b2144e7",
   "metadata": {},
   "outputs": [],
   "source": [
    "\n",
    "var3=['DS','ML','Python']"
   ]
  },
  {
   "cell_type": "code",
   "execution_count": 16,
   "id": "b53e44d6-c510-4560-b7d4-6ed24fb058a5",
   "metadata": {},
   "outputs": [
    {
     "data": {
      "text/plain": [
       "list"
      ]
     },
     "execution_count": 16,
     "metadata": {},
     "output_type": "execute_result"
    }
   ],
   "source": [
    "type(var3)"
   ]
  },
  {
   "cell_type": "code",
   "execution_count": 17,
   "id": "56f34d61-6060-4a52-965c-b9ddf6fdf808",
   "metadata": {},
   "outputs": [],
   "source": [
    "var4=1"
   ]
  },
  {
   "cell_type": "code",
   "execution_count": 18,
   "id": "bbe6dd17-f606-49f5-80e2-dcc4ecb54bca",
   "metadata": {},
   "outputs": [
    {
     "data": {
      "text/plain": [
       "int"
      ]
     },
     "execution_count": 18,
     "metadata": {},
     "output_type": "execute_result"
    }
   ],
   "source": [
    "type(var4)"
   ]
  },
  {
   "cell_type": "code",
   "execution_count": 20,
   "id": "3ffa5f07-8516-430a-8c03-bec2116b60a8",
   "metadata": {},
   "outputs": [
    {
     "data": {
      "text/plain": [
       "1.25"
      ]
     },
     "execution_count": 20,
     "metadata": {},
     "output_type": "execute_result"
    }
   ],
   "source": [
    "#3.1: / is division operator\n",
    "5/4"
   ]
  },
  {
   "cell_type": "code",
   "execution_count": 21,
   "id": "539ef47f-3e6d-4e6b-bc82-e9c16232ca09",
   "metadata": {},
   "outputs": [
    {
     "data": {
      "text/plain": [
       "1"
      ]
     },
     "execution_count": 21,
     "metadata": {},
     "output_type": "execute_result"
    }
   ],
   "source": [
    "#3.2: % is remainder operator\n",
    "5%4"
   ]
  },
  {
   "cell_type": "code",
   "execution_count": 22,
   "id": "186d7996-c0d1-454e-8ead-91178826222a",
   "metadata": {},
   "outputs": [
    {
     "data": {
      "text/plain": [
       "3"
      ]
     },
     "execution_count": 22,
     "metadata": {},
     "output_type": "execute_result"
    }
   ],
   "source": [
    "#3.3: // is a division floor operator OR remainder operator\n",
    "18//5"
   ]
  },
  {
   "cell_type": "code",
   "execution_count": 23,
   "id": "2aced19e-7ee9-4b0d-9fad-9b4b3ed46f1c",
   "metadata": {},
   "outputs": [
    {
     "data": {
      "text/plain": [
       "64"
      ]
     },
     "execution_count": 23,
     "metadata": {},
     "output_type": "execute_result"
    }
   ],
   "source": [
    "#3.4: ** is power operator\n",
    "4**3"
   ]
  },
  {
   "cell_type": "code",
   "execution_count": 1,
   "id": "d4d48c16-fb6e-474e-9962-0c2b7b384dbc",
   "metadata": {},
   "outputs": [
    {
     "name": "stdout",
     "output_type": "stream",
     "text": [
      "22 <class 'int'>\n",
      "33 <class 'int'>\n",
      "44 <class 'int'>\n",
      "arm <class 'str'>\n",
      "hello <class 'str'>\n",
      "(3+5j) <class 'complex'>\n",
      "4.6 <class 'float'>\n",
      "(45, 46) <class 'tuple'>\n",
      "(8+3j) <class 'complex'>\n",
      "3.5 <class 'float'>\n"
     ]
    }
   ],
   "source": [
    "#4:\n",
    "\n",
    "l=[22,33,44,'arm','hello', 3+5j, 4.6, (45,46), 8+3j, 3.5]\n",
    "for i in l :\n",
    "    print(i , type(i) )"
   ]
  },
  {
   "cell_type": "code",
   "execution_count": 1,
   "id": "eff54ef9-3416-4a42-bcf4-1d50106c5406",
   "metadata": {},
   "outputs": [
    {
     "name": "stdin",
     "output_type": "stream",
     "text": [
      "Enter the value of A--> 625\n",
      "Enter the value of B--> 5\n"
     ]
    },
    {
     "name": "stdout",
     "output_type": "stream",
     "text": [
      "625 is divisible by 5 exctly 4 times\n"
     ]
    }
   ],
   "source": [
    "#5\n",
    "\n",
    "A = int(input(\"Enter the value of A-->\")) \n",
    "B = int(input(\"Enter the value of B-->\"))\n",
    "original_A = A\n",
    "count = 0\n",
    "while A % B == 0:\n",
    "    A = A // B\n",
    "    count += 1\n",
    "    \n",
    "print(f\"{original_A} is divisible by {B} exctly {count} times\")\n",
    "\n"
   ]
  },
  {
   "cell_type": "code",
   "execution_count": 3,
   "id": "178ea73c-4d2d-4943-9e95-cfd34e844399",
   "metadata": {},
   "outputs": [
    {
     "name": "stdout",
     "output_type": "stream",
     "text": [
      "list : [5, 6, 7, 8, 9, 10, 11, 12, 13, 14, 15, 16, 17, 18, 19, 20, 21, 22, 23, 24, 25, 26, 27, 28, 29, 30]\n",
      "Divisible by 3 : [6, 9, 12, 15, 18, 21, 24, 27, 30]\n",
      "not divisible by 3 : [5, 7, 8, 10, 11, 13, 14, 16, 17, 19, 20, 22, 23, 25, 26, 28, 29]\n"
     ]
    }
   ],
   "source": [
    "#6\n",
    "\n",
    "Arm = [5,6,7,8,9,10,11,12,13,14,15,16,17,18,19,20,21,22,23,24,25,26,27,28,29,30]\n",
    "divisible_by_3 = []\n",
    "not_divisible_by_3 = []\n",
    "for i in Arm:\n",
    "    if i % 3 == 0:\n",
    "        divisible_by_3.append(i)\n",
    "    else:\n",
    "        not_divisible_by_3.append(i)\n",
    "print(\"list :\", Arm)\n",
    "print(\"Divisible by 3 :\", divisible_by_3)\n",
    "print(\"not divisible by 3 :\", not_divisible_by_3)\n"
   ]
  },
  {
   "cell_type": "code",
   "execution_count": 4,
   "id": "d6ec4ec0-acfe-4c19-8bde-5ff95e819849",
   "metadata": {},
   "outputs": [],
   "source": [
    "#7\n",
    "\n",
    "# MUTABILITY :- when in a list a data or other variables data can be replaced by another data is called Mutability. Exp:\n",
    "\n",
    "l = [22,33,44,55,66,'pw', \"arm\", 3+7j]"
   ]
  },
  {
   "cell_type": "code",
   "execution_count": 5,
   "id": "e0fc7186-422e-43a7-97e7-8945aea289e1",
   "metadata": {},
   "outputs": [
    {
     "data": {
      "text/plain": [
       "[22, 33, 44, 55, 66, 'pw', 'arm', (3+7j)]"
      ]
     },
     "execution_count": 5,
     "metadata": {},
     "output_type": "execute_result"
    }
   ],
   "source": [
    "l"
   ]
  },
  {
   "cell_type": "code",
   "execution_count": 6,
   "id": "4af6ab74-3b53-4989-83fd-580dc18fc8f9",
   "metadata": {},
   "outputs": [],
   "source": [
    "l[5] = \"Python\""
   ]
  },
  {
   "cell_type": "code",
   "execution_count": 7,
   "id": "c96ed593-49dd-4dd7-89dc-d555e9d72b65",
   "metadata": {},
   "outputs": [
    {
     "data": {
      "text/plain": [
       "[22, 33, 44, 55, 66, 'Python', 'arm', (3+7j)]"
      ]
     },
     "execution_count": 7,
     "metadata": {},
     "output_type": "execute_result"
    }
   ],
   "source": [
    "l"
   ]
  },
  {
   "cell_type": "code",
   "execution_count": 9,
   "id": "613b0a87-7fb4-4d97-a7b4-8be1f0b6734f",
   "metadata": {},
   "outputs": [],
   "source": [
    "# IMMUTABILITY :- when in a variable any index number data is unable to replace by other data is called Immutable. Exp- string\n",
    "\n",
    "E = \"ARMAN\""
   ]
  },
  {
   "cell_type": "code",
   "execution_count": 10,
   "id": "e6df1323-4315-4a9f-94a8-c0e36e5e6fa6",
   "metadata": {},
   "outputs": [
    {
     "data": {
      "text/plain": [
       "'ARMAN'"
      ]
     },
     "execution_count": 10,
     "metadata": {},
     "output_type": "execute_result"
    }
   ],
   "source": [
    "E"
   ]
  },
  {
   "cell_type": "code",
   "execution_count": 11,
   "id": "7a776786-bc1c-4658-8d45-21d49889c451",
   "metadata": {},
   "outputs": [
    {
     "ename": "NameError",
     "evalue": "name 'L' is not defined",
     "output_type": "error",
     "traceback": [
      "\u001b[0;31m---------------------------------------------------------------------------\u001b[0m",
      "\u001b[0;31mNameError\u001b[0m                                 Traceback (most recent call last)",
      "Cell \u001b[0;32mIn[11], line 1\u001b[0m\n\u001b[0;32m----> 1\u001b[0m E[\u001b[38;5;241m2\u001b[39m] \u001b[38;5;241m=\u001b[39m \u001b[43mL\u001b[49m\n",
      "\u001b[0;31mNameError\u001b[0m: name 'L' is not defined"
     ]
    }
   ],
   "source": [
    "E[2] = L"
   ]
  },
  {
   "cell_type": "code",
   "execution_count": null,
   "id": "e57f5328-bc95-4c00-bfe0-45daf3f66b54",
   "metadata": {},
   "outputs": [],
   "source": []
  }
 ],
 "metadata": {
  "kernelspec": {
   "display_name": "Python 3 (ipykernel)",
   "language": "python",
   "name": "python3"
  },
  "language_info": {
   "codemirror_mode": {
    "name": "ipython",
    "version": 3
   },
   "file_extension": ".py",
   "mimetype": "text/x-python",
   "name": "python",
   "nbconvert_exporter": "python",
   "pygments_lexer": "ipython3",
   "version": "3.10.8"
  },
  "toc-autonumbering": false,
  "toc-showcode": false,
  "toc-showmarkdowntxt": false
 },
 "nbformat": 4,
 "nbformat_minor": 5
}
