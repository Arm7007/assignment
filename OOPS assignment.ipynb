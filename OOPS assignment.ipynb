{
 "cells": [
  {
   "cell_type": "markdown",
   "id": "71bc1e75-203c-426a-96b3-5f63d033d5b7",
   "metadata": {},
   "source": [
    "### Q1. Explain Class and Object with respect to Object-Oriented Programming. Give a suitable example."
   ]
  },
  {
   "cell_type": "markdown",
   "id": "b03e0b54-ca23-4cb0-a9d1-4b4f3ac8c478",
   "metadata": {},
   "source": [
    "A class is real world entity for example - MOBILE_PHONE and an Object or variable of a class is used to assign value to get required out for code written inside class."
   ]
  },
  {
   "cell_type": "code",
   "execution_count": 1,
   "id": "46666172-a3eb-4289-ae38-a4df36d367b0",
   "metadata": {},
   "outputs": [],
   "source": [
    "class company_details:\n",
    "    def __init__(self, comany_name, company_type, employees_number):\n",
    "        self.comany_name = comany_name\n",
    "        self.company_type = company_type\n",
    "        self.employees_number = employees_number"
   ]
  },
  {
   "cell_type": "code",
   "execution_count": 3,
   "id": "240f2b88-26c2-4dca-8798-e4dfe5403bbe",
   "metadata": {},
   "outputs": [],
   "source": [
    "details = company_details( 'ban makhkhan', 'frenchise stalls', 50)"
   ]
  },
  {
   "cell_type": "code",
   "execution_count": 4,
   "id": "0b472ab2-5a1b-4977-a676-072f466b29be",
   "metadata": {},
   "outputs": [
    {
     "data": {
      "text/plain": [
       "'frenchise stalls'"
      ]
     },
     "execution_count": 4,
     "metadata": {},
     "output_type": "execute_result"
    }
   ],
   "source": [
    "details.company_type"
   ]
  },
  {
   "cell_type": "markdown",
   "id": "cee12477-2b20-40b2-9067-057ae7bb9b23",
   "metadata": {},
   "source": [
    "### Q2. Name the four pillars of OOPs."
   ]
  },
  {
   "cell_type": "markdown",
   "id": "d53f2dae-c423-483f-b662-5cf163c96153",
   "metadata": {},
   "source": [
    "The four pillers of oops are INHERITANCE, POLYMORPHISM, ENCAPSULATION and ABSTRACTION."
   ]
  },
  {
   "cell_type": "markdown",
   "id": "c175500e-e092-4f64-a195-6f9355935a6b",
   "metadata": {},
   "source": [
    "### Q3. Explain why the __init__() function is used. Give a suitable example."
   ]
  },
  {
   "cell_type": "markdown",
   "id": "2a07e2ef-4ee4-4afd-a7a9-b68f2da12f84",
   "metadata": {},
   "source": [
    "__init__() function is called a constructor. It is used to pass multiple data to access it latter. This method allows us to initialize an object's attributes and perform any necessary setup or initialization tasks. Example---"
   ]
  },
  {
   "cell_type": "code",
   "execution_count": 1,
   "id": "405719f3-8cc1-403b-a3d7-693ed2ef71bc",
   "metadata": {},
   "outputs": [],
   "source": [
    "class house:\n",
    "    def __init__(self, area_house, price_house ):\n",
    "        self.area_house= area_house\n",
    "        self.price_house= price_house\n",
    "        \n",
    "    def specifications(self):\n",
    "        return self.area_house, self.price_house "
   ]
  },
  {
   "cell_type": "code",
   "execution_count": 3,
   "id": "f13ed948-8566-4907-a1e2-8e6bac0b3db2",
   "metadata": {},
   "outputs": [],
   "source": [
    "home = house(\"1500 sq foot\", 800000)"
   ]
  },
  {
   "cell_type": "code",
   "execution_count": 5,
   "id": "391cf3e6-abc8-4fca-a6bf-49c1e8ed05d2",
   "metadata": {},
   "outputs": [
    {
     "data": {
      "text/plain": [
       "('1500 sq foot', 800000)"
      ]
     },
     "execution_count": 5,
     "metadata": {},
     "output_type": "execute_result"
    }
   ],
   "source": [
    "home.specifications()"
   ]
  },
  {
   "cell_type": "markdown",
   "id": "4c1a7a49-b0e3-4882-8641-29a4c1b32bea",
   "metadata": {},
   "source": [
    "### Q4. Why self is used in OOPs?"
   ]
  },
  {
   "cell_type": "markdown",
   "id": "4bd99bba-9a1d-4874-ba17-0e272ce4f75b",
   "metadata": {},
   "source": [
    " Whenever a function is created inside a \"class\", it require a pointer OR reference which help the class to understand that the pointer belong to it . And it help the class variable to access it."
   ]
  },
  {
   "cell_type": "markdown",
   "id": "30939bdc-a472-41b3-8730-b0b49552c3d8",
   "metadata": {},
   "source": [
    "### Q5. What is inheritance? Give an example for each type of inheritance."
   ]
  },
  {
   "cell_type": "markdown",
   "id": "ab538d66-37d1-46b2-b62a-8b9300380705",
   "metadata": {},
   "source": [
    "When a class is able to assess the properties of other class is called inheritance. Inheritance are of 5 types---\n",
    "1). Single Inheritance\n",
    "2). Multiple Inheritance\n",
    "3). Multi level Inheritance\n",
    "4). Hierarchical Inheritance\n",
    "5). Hybrid Inheritance"
   ]
  },
  {
   "cell_type": "code",
   "execution_count": 7,
   "id": "0f6ead9c-f8a0-4a1a-81cd-aa8c2f139f98",
   "metadata": {},
   "outputs": [],
   "source": [
    "## 1) Single inheritance\n",
    "\n",
    "class Parent1:  \n",
    "    def func_1(self):  \n",
    "        print (\"This function is defined inside the parent class.\")  \n",
    "   \n",
    "class Child1(Parent1):  \n",
    "    def func_2(self):  \n",
    "        print (\"This function is defined inside the child class.\")  \n",
    "  \n"
   ]
  },
  {
   "cell_type": "code",
   "execution_count": 8,
   "id": "767de4d7-aa6a-40ab-b3d7-8e06423a49dd",
   "metadata": {},
   "outputs": [
    {
     "name": "stdout",
     "output_type": "stream",
     "text": [
      "This function is defined inside the parent class.\n",
      "This function is defined inside the child class.\n"
     ]
    }
   ],
   "source": [
    "object = Child1()  \n",
    "object.func_1()  \n",
    "object.func_2()  "
   ]
  },
  {
   "cell_type": "code",
   "execution_count": 9,
   "id": "1d8c0a00-05aa-414d-8f14-df47f15e7c10",
   "metadata": {},
   "outputs": [
    {
     "name": "stdout",
     "output_type": "stream",
     "text": [
      "Father name is : Rajesh\n",
      "Mother name is : Shreya\n"
     ]
    }
   ],
   "source": [
    "## 2) Multiple Inheritance\n",
    "\n",
    "class Mother1:  \n",
    "    mothername1 = \"\"  \n",
    "    def mother1(self):  \n",
    "        print(self.mothername1)  \n",
    "   \n",
    "class Father1:  \n",
    "    fathername1 = \"\"  \n",
    "    def father1(self):  \n",
    "        print(self.fathername1)  \n",
    "   \n",
    "class Son1(Mother1, Father1):  \n",
    "    def parents1(self):  \n",
    "        print (\"Father name is :\", self.fathername1)  \n",
    "        print (\"Mother name is :\", self.mothername1)  \n",
    "  \n"
   ]
  },
  {
   "cell_type": "code",
   "execution_count": 10,
   "id": "2dd381c0-34c7-4be6-a35d-adbf36aaf5bf",
   "metadata": {},
   "outputs": [
    {
     "name": "stdout",
     "output_type": "stream",
     "text": [
      "Father name is : Rajesh\n",
      "Mother name is : Shreya\n"
     ]
    }
   ],
   "source": [
    "s1 = Son1()  \n",
    "s1.fathername1 = \"Rajesh\"  \n",
    "s1.mothername1 = \"Shreya\"  \n",
    "s1.parents1()  "
   ]
  },
  {
   "cell_type": "code",
   "execution_count": 11,
   "id": "c7ebf1e2-67a3-44ab-8b1f-06bfefb4761d",
   "metadata": {},
   "outputs": [],
   "source": [
    "## 3) Multilevel Inheritance\n",
    "\n",
    "class Grandfather1:  \n",
    "  \n",
    "    def __init__(self, grandfathername1):  \n",
    "        self.grandfathername1 = grandfathername1  \n",
    "  \n",
    "class Father1(Grandfather1):  \n",
    "    def __init__(self, fathername1, grandfathername1):  \n",
    "        self.fathername1 = fathername1  \n",
    "  \n",
    "        # here, we will invoke the constructor of Grandfather class  \n",
    "        Grandfather1.__init__(self, grandfathername1)  \n",
    "  \n",
    "\n",
    "class Son1(Father1):  \n",
    "    def __init__(self,sonname1, fathername1, grandfathername1):  \n",
    "        self.sonname1 = sonname1  \n",
    "  \n",
    "        # here, we will invoke the constructor of Father class  \n",
    "        Father1.__init__(self, fathername1, grandfathername1)  \n",
    "  \n",
    "    def print_name(self):  \n",
    "        print('Grandfather name is :', self.grandfathername1)  \n",
    "        print(\"Father name is :\", self.fathername1)  \n",
    "        print(\"Son name is :\", self.sonname1)  "
   ]
  },
  {
   "cell_type": "code",
   "execution_count": 12,
   "id": "a504de0a-a6f6-4ad7-b9d1-95bd070474a9",
   "metadata": {},
   "outputs": [],
   "source": [
    "## 4) Hierarchical Inheritance\n",
    "\n",
    "class Parent1:  \n",
    "    def func_1(self):  \n",
    "        print (\"This function is defined inside the parent class.\")  \n",
    "   \n",
    "class Child_1(Parent1):  \n",
    "    def func_2(self):  \n",
    "        print (\"This function is defined inside the child 1.\")  \n",
    "  \n",
    "class Child_2(Parent1):  \n",
    "    def func_3(self):  \n",
    "        print (\"This function is defined inside the child 2.\")  "
   ]
  },
  {
   "cell_type": "code",
   "execution_count": null,
   "id": "fc66fcec-a4f9-4206-bafd-cd656f6d2f52",
   "metadata": {},
   "outputs": [],
   "source": []
  }
 ],
 "metadata": {
  "kernelspec": {
   "display_name": "Python 3 (ipykernel)",
   "language": "python",
   "name": "python3"
  },
  "language_info": {
   "codemirror_mode": {
    "name": "ipython",
    "version": 3
   },
   "file_extension": ".py",
   "mimetype": "text/x-python",
   "name": "python",
   "nbconvert_exporter": "python",
   "pygments_lexer": "ipython3",
   "version": "3.10.8"
  }
 },
 "nbformat": 4,
 "nbformat_minor": 5
}
