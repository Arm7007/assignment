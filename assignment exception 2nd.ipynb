{
 "cells": [
  {
   "cell_type": "markdown",
   "id": "947f50dd-7b83-4b34-abd0-23a2eeb18b9d",
   "metadata": {},
   "source": [
    "### Q1. Explain why we have to use the Exception class while creating a Custom Exception."
   ]
  },
  {
   "cell_type": "markdown",
   "id": "18fe8571-6c5b-4041-80ee-807f8163e705",
   "metadata": {},
   "source": [
    "While creating custom exception, Exception class is inherited to the class to make it work on errors. This is important to handle perticular error , to give the code cosistency at the time of execution and it helps in debugging the code. "
   ]
  },
  {
   "cell_type": "markdown",
   "id": "3a836bce-8673-4c4d-bb21-b63cb7d6b757",
   "metadata": {},
   "source": [
    "### Q2. Write a python program to print Python Exception Hierarchy."
   ]
  },
  {
   "cell_type": "code",
   "execution_count": null,
   "id": "d587b764-657a-45fa-9a2a-15d8fea839f3",
   "metadata": {},
   "outputs": [],
   "source": [
    "# import inspect module \n",
    "import inspect \n",
    "  \n",
    "# our treeClass function \n",
    "def treeClass(cls, ind = 0): \n",
    "    \n",
    "      # print name of the class \n",
    "    print ('-' * ind, cls.__name__) \n",
    "      \n",
    "    # iterating through subclasses \n",
    "    for i in cls.__subclasses__(): \n",
    "        treeClass(i, ind + 3) \n",
    "  \n",
    "print(\"Hierarchy for Built-in exceptions is : \") \n",
    "  \n",
    "# inspect.getmro() Return a tuple  \n",
    "# of class  cls’s base classes. \n",
    "  \n",
    "# building a tree hierarchy  \n",
    "inspect.getclasstree(inspect.getmro(BaseException)) \n",
    "  \n",
    "# function call \n",
    "treeClass(BaseException) "
   ]
  },
  {
   "cell_type": "markdown",
   "id": "2eb9e403-8776-4487-92e3-95c13366582d",
   "metadata": {},
   "source": [
    "### Q3. What errors are defined in the ArithmeticError class? Explain any two with an example"
   ]
  },
  {
   "cell_type": "markdown",
   "id": "74239e0a-9ffd-48cd-8007-514f3d1542b9",
   "metadata": {},
   "source": [
    "Arithmatic error is thrown when an error occurs while performing mathematical operation."
   ]
  },
  {
   "cell_type": "code",
   "execution_count": 9,
   "id": "9faff023-82f4-46cc-a186-fca8cc2e6260",
   "metadata": {},
   "outputs": [
    {
     "name": "stdout",
     "output_type": "stream",
     "text": [
      "It's a zero div error\n"
     ]
    }
   ],
   "source": [
    "# ZeroDivisionError\n",
    "try:\n",
    "    a = 3/0\n",
    "    print(a)\n",
    "except ZeroDivisionError:\n",
    "    print(\"It's a zero div error\")"
   ]
  },
  {
   "cell_type": "code",
   "execution_count": 11,
   "id": "f9c9cf49-30aa-4b4b-9e13-18555b6e6fe5",
   "metadata": {},
   "outputs": [
    {
     "name": "stdout",
     "output_type": "stream",
     "text": [
      "it's over flow error\n"
     ]
    }
   ],
   "source": [
    "import math\n",
    "try:\n",
    "    x = math.exp(1000)\n",
    "    print (x)\n",
    "except OverflowError:\n",
    "    print(\"it's over flow error\")"
   ]
  },
  {
   "cell_type": "markdown",
   "id": "6466ea75-d8ed-4a58-9639-c7379615db9a",
   "metadata": {},
   "source": [
    "### Q4. Why LookupError class is used? Explain with an example KeyError and IndexError"
   ]
  },
  {
   "cell_type": "markdown",
   "id": "a95b2307-6b64-49bf-a7c9-dfa767335e7f",
   "metadata": {},
   "source": [
    "The LookupError class in Python serves as a base class for exceptions raised when a lookup operation fails. It is a subclass of Exception and is specifically designed to handle errors that occur when a sequence or mapping operation (such as accessing a key in a dictionary or an index in a list) does not succeed. This class provides a common base for more specific lookup-related exceptions, namely KeyError and IndexError. Exp..."
   ]
  },
  {
   "cell_type": "code",
   "execution_count": 13,
   "id": "24ca7a21-5263-42cb-ad3d-d26c64052cc7",
   "metadata": {},
   "outputs": [
    {
     "name": "stdout",
     "output_type": "stream",
     "text": [
      "KeyError caught: 'address'\n",
      "IndexError caught: list index out of range\n",
      "LookupError caught: 'address'\n"
     ]
    }
   ],
   "source": [
    "def demonstrate_lookup_errors():\n",
    "    # Demonstrate KeyError\n",
    "    my_dict = {'name': 'Alice', 'age': 30}\n",
    "    try:\n",
    "        print(my_dict['address'])  # Key 'address' does not exist\n",
    "    except KeyError as e:\n",
    "        print(f\"KeyError caught: {e}\")\n",
    "\n",
    "    # Demonstrate IndexError\n",
    "    my_list = [10, 20, 30]\n",
    "    try:\n",
    "        print(my_list[5])  # Index 5 is out of range\n",
    "    except IndexError as e:\n",
    "        print(f\"IndexError caught: {e}\")\n",
    "\n",
    "    # Handle both KeyError and IndexError using LookupError\n",
    "    try:\n",
    "        # Try to access a non-existent key in a dictionary\n",
    "        print(my_dict['address'])\n",
    "        # Try to access an out-of-range index in a list\n",
    "        print(my_list[5])\n",
    "    except LookupError as e:\n",
    "        print(f\"LookupError caught: {e}\")\n",
    "\n",
    "\n",
    "if __name__ == \"__main__\":\n",
    "    demonstrate_lookup_errors()"
   ]
  },
  {
   "cell_type": "markdown",
   "id": "6b2abc6a-840b-4cc9-a3c1-c647dbf5f866",
   "metadata": {},
   "source": [
    "### Q5. Explain ImportError. What is ModuleNotFoundError"
   ]
  },
  {
   "cell_type": "markdown",
   "id": "5cf235e5-284d-4e95-b18d-b6b23f81d44e",
   "metadata": {},
   "source": [
    "ImportError:\n",
    "\n",
    "ImportError is raised when an import statement fails to import a module or a specific attribute from a module. It’s a broad exception used for various import-related issues."
   ]
  },
  {
   "cell_type": "code",
   "execution_count": 15,
   "id": "343d1f4e-ffd6-4ead-a3da-1d5bb98d3af5",
   "metadata": {},
   "outputs": [
    {
     "name": "stdout",
     "output_type": "stream",
     "text": [
      "ImportError caught: No module named 'non_existent_module'\n"
     ]
    }
   ],
   "source": [
    "try:\n",
    "    import non_existent_module\n",
    "except ImportError as e:\n",
    "    print(f\"ImportError caught: {e}\")\n"
   ]
  },
  {
   "cell_type": "markdown",
   "id": "ab245456-dc9d-45d6-a937-ee3585020b5e",
   "metadata": {},
   "source": [
    "ModuleNotFoundError:\n",
    "\n",
    "ModuleNotFoundError is a subclass of ImportError introduced in Python 3.6. It is specifically raised when a module cannot be found. It provides a more specific error message compared to ImportError."
   ]
  },
  {
   "cell_type": "code",
   "execution_count": 16,
   "id": "8e179db8-9cb2-44d1-a0db-7760da6a56da",
   "metadata": {},
   "outputs": [
    {
     "name": "stdout",
     "output_type": "stream",
     "text": [
      "ModuleNotFoundError caught: No module named 'non_existent_module'\n",
      "ModuleNotFoundError caught: No module named 'math.non_existent_submodule'; 'math' is not a package\n"
     ]
    }
   ],
   "source": [
    "try:\n",
    "    import non_existent_module\n",
    "except ModuleNotFoundError as e:\n",
    "    print(f\"ModuleNotFoundError caught: {e}\")\n",
    "\n",
    "try:\n",
    "    import math.non_existent_submodule\n",
    "except ModuleNotFoundError as e:\n",
    "    print(f\"ModuleNotFoundError caught: {e}\")"
   ]
  },
  {
   "cell_type": "markdown",
   "id": "e06c943e-e79b-4fde-9e20-1832ad82dcf8",
   "metadata": {},
   "source": [
    "### Q6. List down some best practices for exception handling in python. "
   ]
  },
  {
   "cell_type": "markdown",
   "id": "3f1e4273-a0b7-464b-87ed-db4977a7e7aa",
   "metadata": {},
   "source": [
    "Exception handling is a critical aspect of writing robust and reliable Python code. Properly managing exceptions ensures that your program can handle errors gracefully and continue to operate or terminate in a controlled manner. Here are some best practices for exception handling in Python:\n",
    "- Use Specific Exceptions\n",
    "- Avoid Bare Except Clauses\n",
    "- Use 'finally' for Cleanup\n",
    "- Use 'else' for Code That Should Run When No Exception Occurs\n",
    "- 'Log' Exceptions for Debugging\n",
    "- 'Raise' Exceptions with Meaningful Messages\n",
    "- Handle Exceptions at the Appropriate Level\n",
    "- Avoid Overusing Exceptions for Flow Control\n",
    "- Document Exception Handling\n",
    "- Use Custom Exceptions When Needed"
   ]
  },
  {
   "cell_type": "code",
   "execution_count": null,
   "id": "23b25e2d-970e-4ec2-b12e-ea8011709f41",
   "metadata": {},
   "outputs": [],
   "source": []
  }
 ],
 "metadata": {
  "kernelspec": {
   "display_name": "Python 3 (ipykernel)",
   "language": "python",
   "name": "python3"
  },
  "language_info": {
   "codemirror_mode": {
    "name": "ipython",
    "version": 3
   },
   "file_extension": ".py",
   "mimetype": "text/x-python",
   "name": "python",
   "nbconvert_exporter": "python",
   "pygments_lexer": "ipython3",
   "version": "3.10.8"
  }
 },
 "nbformat": 4,
 "nbformat_minor": 5
}
