{
 "cells": [
  {
   "cell_type": "markdown",
   "id": "1623b646-b22d-4075-8eb5-8bc97b25d51b",
   "metadata": {},
   "source": [
    "### Q1. What is an Exception in python? Write the difference between Exceptions and syntax errors"
   ]
  },
  {
   "cell_type": "markdown",
   "id": "20880230-0c8d-4f01-b90a-327cc3db4e2e",
   "metadata": {},
   "source": [
    "In a big code , if there is an error at any line , while executing error occurs and because of a small error the complete code won't be able to run. To overcome that issue __EXCEPTION HANDLING__ is used. \n",
    "By putting that wrong OR suspious line in TRY and EXCEPT block that issue can be overcome. This will print the given error statement and will let the whole code run.\n",
    "\n",
    "Syntax Error:\n",
    "- A syntax error occurs when the code violates the rules of the programming language. These errors typically prevent the code from being parsed or compiled because the syntax is incorrect.\n",
    "- Syntax errors are usually detected by the compiler or interpreter before the program is executed. Common examples include missing parentheses, using an undefined variable, or forgetting a semicolon at the end of a statement.\n",
    "- Since syntax errors prevent the code from being parsed or compiled, the program will not run until these errors are fixed.\n",
    "\n",
    "Exception:\n",
    "- Exceptions occur during the execution of a program when an unexpected event or condition occurs that disrupts the normal flow of the program.\n",
    "- Exceptions are not necessarily caused by syntax errors; the code may be syntactically correct but still encounter an exception at runtime due to issues like division by zero, trying to access an index out of bounds in an array, or attempting to open a file that does not exist.\n",
    "- Unlike syntax errors, exceptions are typically detected while the program is running. When an exception is encountered, the program can respond to it by handling the exception gracefully (using try-catch blocks or similar mechanisms) or allow the program to terminate if the exception is not handled."
   ]
  },
  {
   "cell_type": "markdown",
   "id": "688f3f7b-d53b-4d56-8879-7d25d67f0975",
   "metadata": {},
   "source": [
    "### Q2. What happens when an exception is not handled? Explain with an example."
   ]
  },
  {
   "cell_type": "markdown",
   "id": "89685de8-b652-47f4-864e-25ca0b46351e",
   "metadata": {},
   "source": [
    "If an exception occurs which does not match the exception named in the except clause, it is passed on to outer try statements; if no handler is found, it is an unhandled exception and execution stops with an error message."
   ]
  },
  {
   "cell_type": "code",
   "execution_count": 6,
   "id": "48a4841c-a612-4533-9194-143489fe2c48",
   "metadata": {},
   "outputs": [
    {
     "name": "stdout",
     "output_type": "stream",
     "text": [
      "its a zero division error\n"
     ]
    }
   ],
   "source": [
    "try:\n",
    "    10/0\n",
    "except  :\n",
    "    print(\"its a zero division error\")"
   ]
  },
  {
   "cell_type": "markdown",
   "id": "cfbd41df-68b4-4ede-8ded-695cf069670f",
   "metadata": {},
   "source": [
    "### Q3. Which Python statements are used to catch and handle exceptions? Explain with an example"
   ]
  },
  {
   "cell_type": "markdown",
   "id": "ede991c7-28d0-4bc6-a13a-63263ebc6f28",
   "metadata": {},
   "source": [
    "Try and except statements are used to catch and handle exceptions in Python. Statements that can raise exceptions are kept inside the try clause and the statements that handle the exception are written inside except clause."
   ]
  },
  {
   "cell_type": "code",
   "execution_count": 7,
   "id": "942d6fab-2cb4-4a95-8c1c-34d543d75db5",
   "metadata": {},
   "outputs": [
    {
     "name": "stdout",
     "output_type": "stream",
     "text": [
      "list index out of range\n"
     ]
    }
   ],
   "source": [
    "try:\n",
    "    l= [1,2,3,4,5,7]\n",
    "    l[10]\n",
    "except IndexError as e:\n",
    "    print(e)"
   ]
  },
  {
   "cell_type": "markdown",
   "id": "d8f09a85-d13e-42d6-9536-4a3571dc2140",
   "metadata": {},
   "source": [
    "### Q4. Explain with an example:\n",
    "\n",
    "* Try and else\n",
    "* finally\n",
    "* raise"
   ]
  },
  {
   "cell_type": "markdown",
   "id": "868bb292-8751-4f78-b38c-62e1608712c7",
   "metadata": {},
   "source": [
    "The try block lets you test a block of code for errors. The except block lets you handle the error. The else block lets you execute code when there is no error. The finally block lets you execute code, regardless of the result of the try- and except blocks.\n",
    "\n",
    "The raise statement allows the programmer to force a specified exception to occur."
   ]
  },
  {
   "cell_type": "code",
   "execution_count": 1,
   "id": "0396b714-62ec-4ed4-97e0-1447faccf814",
   "metadata": {},
   "outputs": [
    {
     "name": "stdout",
     "output_type": "stream",
     "text": [
      "The division was successful, result is: 5.0\n"
     ]
    }
   ],
   "source": [
    "# The try block lets you test a block of code for errors. \n",
    "# If an error occurs, Python will jump to the except block. \n",
    "# The else block lets you run code if no exceptions are raised in the try block.\n",
    "\n",
    "try:\n",
    "    result = 10 / 2\n",
    "except ZeroDivisionError:\n",
    "    print(\"You can't divide by zero!\")\n",
    "else:\n",
    "    print(\"The division was successful, result is:\", result)"
   ]
  },
  {
   "cell_type": "code",
   "execution_count": 2,
   "id": "79daa559-b2cc-4f5b-9e60-01a49a252a52",
   "metadata": {},
   "outputs": [
    {
     "name": "stdout",
     "output_type": "stream",
     "text": [
      "File not found!\n"
     ]
    },
    {
     "ename": "NameError",
     "evalue": "name 'file' is not defined",
     "output_type": "error",
     "traceback": [
      "\u001b[0;31m---------------------------------------------------------------------------\u001b[0m",
      "\u001b[0;31mNameError\u001b[0m                                 Traceback (most recent call last)",
      "Cell \u001b[0;32mIn[2], line 13\u001b[0m\n\u001b[1;32m     11\u001b[0m     \u001b[38;5;28mprint\u001b[39m(\u001b[38;5;124m\"\u001b[39m\u001b[38;5;124mFile read successfully, content is:\u001b[39m\u001b[38;5;124m\"\u001b[39m, content)\n\u001b[1;32m     12\u001b[0m \u001b[38;5;28;01mfinally\u001b[39;00m:\n\u001b[0;32m---> 13\u001b[0m     \u001b[43mfile\u001b[49m\u001b[38;5;241m.\u001b[39mclose()\n\u001b[1;32m     14\u001b[0m     \u001b[38;5;28mprint\u001b[39m(\u001b[38;5;124m\"\u001b[39m\u001b[38;5;124mFile closed.\u001b[39m\u001b[38;5;124m\"\u001b[39m)\n",
      "\u001b[0;31mNameError\u001b[0m: name 'file' is not defined"
     ]
    }
   ],
   "source": [
    "# The finally block is used to execute code regardless of whether an exception was raised or not.\n",
    "# It’s typically used for cleanup actions, such as closing files or releasing resources.\n",
    "\n",
    "\n",
    "try:\n",
    "    file = open('example.txt', 'r')\n",
    "    content = file.read()\n",
    "except FileNotFoundError:\n",
    "    print(\"File not found!\")\n",
    "else:\n",
    "    print(\"File read successfully, content is:\", content)\n",
    "finally:\n",
    "    file.close()\n",
    "    print(\"File closed.\")"
   ]
  },
  {
   "cell_type": "code",
   "execution_count": 3,
   "id": "5f5bc8f5-13a0-461a-8bcc-f0a4015a5b11",
   "metadata": {},
   "outputs": [
    {
     "name": "stdout",
     "output_type": "stream",
     "text": [
      "Caught an exception: Age cannot be negative\n"
     ]
    }
   ],
   "source": [
    "# The raise statement is used to trigger an exception manually. \n",
    "# You can use it to throw an exception when a certain condition occurs.\n",
    "\n",
    "\n",
    "def check_age(age):\n",
    "    if age < 0:\n",
    "        raise ValueError(\"Age cannot be negative\")\n",
    "    else:\n",
    "        print(\"Age is:\", age)\n",
    "\n",
    "try:\n",
    "    check_age(-5)\n",
    "except ValueError as e:\n",
    "    print(\"Caught an exception:\", e)"
   ]
  },
  {
   "cell_type": "markdown",
   "id": "3c088cfc-2968-4968-b971-1a8b3943b0c9",
   "metadata": {},
   "source": [
    "### Q5. What are Custom Exceptions in python? Why do we need Custom Exceptions? Explain with an example"
   ]
  },
  {
   "cell_type": "markdown",
   "id": "e26cffaa-5545-460c-a840-294832a1d4ba",
   "metadata": {},
   "source": [
    "Custom exceptions in Python are user-defined exception classes that allow you to create exceptions tailored to your specific application needs. These are subclasses of Python's built-in Exception class or one of its subclasses, and they enable you to handle errors in a more meaningful way related to your program's logic.\n",
    "\n",
    "Why Do We Need Custom Exceptions?\n",
    "\n",
    "* Specificity: Custom exceptions provide a way to define errors specific to your application. This makes it easier to handle and debug errors in a way that reflects your program's domain.\n",
    "\n",
    "* Clarity: They make the code more readable and understandable by making the type of error explicit. This is especially useful in complex systems where many different kinds of errors might occur.\n",
    "\n",
    "* Control: Custom exceptions give you control over the error handling process. You can define what additional information is passed along with the exception and how it should be handled.\n",
    "\n",
    "* Modularity: They allow different parts of your application to communicate specific error conditions. This is helpful for large applications or libraries that need to convey precise error states."
   ]
  },
  {
   "cell_type": "code",
   "execution_count": 4,
   "id": "5ee31de0-2f79-4a96-883e-7d75e756e7fe",
   "metadata": {},
   "outputs": [
    {
     "name": "stdout",
     "output_type": "stream",
     "text": [
      "Caught an exception: Insufficient funds for this transaction (Balance: 100, Amount attempted: 150)\n"
     ]
    }
   ],
   "source": [
    "class InsufficientFundsError(Exception):\n",
    "    def __init__(self, message, balance, amount):\n",
    "        super().__init__(message)\n",
    "        self.balance = balance\n",
    "        self.amount = amount\n",
    "\n",
    "    def __str__(self):\n",
    "        return f\"{self.args[0]} (Balance: {self.balance}, Amount attempted: {self.amount})\"\n",
    "\n",
    "# Function that uses the custom exception\n",
    "def withdraw_money(balance, amount):\n",
    "    if amount > balance:\n",
    "        raise InsufficientFundsError(\n",
    "            \"Insufficient funds for this transaction\",\n",
    "            balance,\n",
    "            amount\n",
    "        )\n",
    "    else:\n",
    "        balance -= amount\n",
    "        print(f\"Withdrawal successful. New balance: {balance}\")\n",
    "        return balance\n",
    "\n",
    "# Example usage\n",
    "try:\n",
    "    current_balance = 100\n",
    "    amount_to_withdraw = 150\n",
    "    current_balance = withdraw_money(current_balance, amount_to_withdraw)\n",
    "except InsufficientFundsError as e:\n",
    "    print(\"Caught an exception:\", e)"
   ]
  },
  {
   "cell_type": "markdown",
   "id": "a009a6c0-2b50-43fe-84e9-864151a37eaf",
   "metadata": {},
   "source": [
    "### Q6. Create a custom exception class. Use this class to handle an exception."
   ]
  },
  {
   "cell_type": "code",
   "execution_count": 5,
   "id": "d8466c00-ee8c-44e8-bc08-b8bf824a8722",
   "metadata": {},
   "outputs": [
    {
     "name": "stdout",
     "output_type": "stream",
     "text": [
      "Caught an exception: The age provided is out of the valid range (Value: 150, Expected Range: 0 - 120)\n"
     ]
    }
   ],
   "source": [
    "class ValueOutOfRangeError(Exception):\n",
    "    def __init__(self, message, value, min_value, max_value):\n",
    "        super().__init__(message)\n",
    "        self.value = value\n",
    "        self.min_value = min_value\n",
    "        self.max_value = max_value\n",
    "\n",
    "    def __str__(self):\n",
    "        return f\"{self.args[0]} (Value: {self.value}, Expected Range: {self.min_value} - {self.max_value})\"\n",
    "\n",
    "# Function that uses the custom exception\n",
    "def validate_age(age):\n",
    "    MIN_AGE = 0\n",
    "    MAX_AGE = 120\n",
    "    \n",
    "    if age < MIN_AGE or age > MAX_AGE:\n",
    "        raise ValueOutOfRangeError(\n",
    "            \"The age provided is out of the valid range\",\n",
    "            age,\n",
    "            MIN_AGE,\n",
    "            MAX_AGE\n",
    "        )\n",
    "    else:\n",
    "        print(f\"Age {age} is within the valid range.\")\n",
    "\n",
    "# Example usage\n",
    "try:\n",
    "    age = 150  # You can change this value to test different scenarios\n",
    "    validate_age(age)\n",
    "except ValueOutOfRangeError as e:\n",
    "    print(\"Caught an exception:\", e)"
   ]
  },
  {
   "cell_type": "code",
   "execution_count": null,
   "id": "d6a24ba6-62fd-4b89-902f-052a397f85e6",
   "metadata": {},
   "outputs": [],
   "source": []
  }
 ],
 "metadata": {
  "kernelspec": {
   "display_name": "Python 3 (ipykernel)",
   "language": "python",
   "name": "python3"
  },
  "language_info": {
   "codemirror_mode": {
    "name": "ipython",
    "version": 3
   },
   "file_extension": ".py",
   "mimetype": "text/x-python",
   "name": "python",
   "nbconvert_exporter": "python",
   "pygments_lexer": "ipython3",
   "version": "3.10.8"
  }
 },
 "nbformat": 4,
 "nbformat_minor": 5
}
