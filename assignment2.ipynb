{
 "cells": [
  {
   "cell_type": "raw",
   "id": "e71a960e-eff0-409b-919e-293a55cbd635",
   "metadata": {},
   "source": [
    "1). In python there are two types of comment codes which are single line comment and multiple line comments. Comments don't execute with code.\n",
    "# in single line comment '#' is used before the line to make it comment and it's most popular one which used in pyton\n",
    "# in multi line comments triple cotes [\"\"\"comment\"\"\"] is used."
   ]
  },
  {
   "cell_type": "code",
   "execution_count": null,
   "id": "c4b3212b-c316-4a0d-b2bf-d7eaa4aa29e9",
   "metadata": {},
   "outputs": [],
   "source": [
    "# This is a single line comment\n",
    "\n",
    "\n",
    "\"\"\" it's is\n",
    "a multi-line \n",
    "omments\"\"\""
   ]
  },
  {
   "cell_type": "raw",
   "id": "18ccb22d-a427-43ef-919f-6e123b81f415",
   "metadata": {},
   "source": [
    "2). Variables are those alphabet or alpha-numeric item in which any data of different types are being stored.\n",
    "Examples of variables= alphabet(a,b,c), a1,b2,c4,d@,e#\n",
    "Unacceptable variables= 1a,2b,@c.....\n",
    "\n",
    "To assign any value or data in variable use equal to sign '=' and that data type will be stored into it.\n",
    "examples:\n",
    "a= \"Arman\"         #string\n",
    "b= 123             #integer\n",
    "c= 4.5             #float\n",
    "d= (1,23,4)        #Tuple\n",
    "e= [4,5,6]         #List\n",
    "f= {11,22,33}      #Set\n",
    "g= {\"date of brith\": 05th Januray}    # Dictionary"
   ]
  },
  {
   "cell_type": "markdown",
   "id": "9883bebe-5cd9-4aae-b1cf-f2f072d7c65b",
   "metadata": {},
   "source": [
    "3). To convert one data type in another, type-casting is used in pyhton."
   ]
  },
  {
   "cell_type": "code",
   "execution_count": 10,
   "id": "f9e0a531-3d48-4459-8e2d-e12694df12bf",
   "metadata": {},
   "outputs": [
    {
     "data": {
      "text/plain": [
       "str"
      ]
     },
     "execution_count": 10,
     "metadata": {},
     "output_type": "execute_result"
    }
   ],
   "source": [
    "a= 123\n",
    "b=str(a)\n",
    "type(b)"
   ]
  },
  {
   "cell_type": "code",
   "execution_count": 11,
   "id": "dd4fafde-4c55-4bbe-a17b-a4b50514e7f5",
   "metadata": {},
   "outputs": [
    {
     "data": {
      "text/plain": [
       "(1, 2, 3, 5)"
      ]
     },
     "execution_count": 11,
     "metadata": {},
     "output_type": "execute_result"
    }
   ],
   "source": [
    "c = [1,2,3,5]\n",
    "tuple(c)"
   ]
  },
  {
   "cell_type": "code",
   "execution_count": 12,
   "id": "87ac0072-18c7-4245-8166-0b54996837a9",
   "metadata": {},
   "outputs": [
    {
     "data": {
      "text/plain": [
       "[1, 2, 3, 4, 5]"
      ]
     },
     "execution_count": 12,
     "metadata": {},
     "output_type": "execute_result"
    }
   ],
   "source": [
    "d= {1,1,1,2,2,3,4,5,5}\n",
    "list(d)"
   ]
  },
  {
   "cell_type": "raw",
   "id": "167f0b6f-3c88-4c5f-a06e-7b0fe6c9154d",
   "metadata": {},
   "source": [
    "4). First write a code in notepad and save it with a name.py file and by opening the command prompt from window (by writing cnd) and then write the \"\" python name.py\"\" and run it, it will give the print statement. "
   ]
  },
  {
   "cell_type": "code",
   "execution_count": 13,
   "id": "48acd03c-0e77-45b4-9d09-89fced5d521d",
   "metadata": {},
   "outputs": [
    {
     "data": {
      "text/plain": [
       "[5, 4, 3, 2, 1]"
      ]
     },
     "execution_count": 13,
     "metadata": {},
     "output_type": "execute_result"
    }
   ],
   "source": [
    "# 5). Slicing opertaion\n",
    "\n",
    "my_list = [1, 2, 3, 4, 5]\n",
    "# slice\n",
    "my_list[::-1]"
   ]
  },
  {
   "cell_type": "code",
   "execution_count": 16,
   "id": "2fc2feaa-8167-4434-8c3e-ae6e25271318",
   "metadata": {},
   "outputs": [
    {
     "name": "stdout",
     "output_type": "stream",
     "text": [
      "[2, 3]\n"
     ]
    }
   ],
   "source": [
    "# oibtaining sublist\n",
    "sub_list=my_list[1:3]\n",
    "print(sub_list)"
   ]
  },
  {
   "cell_type": "markdown",
   "id": "d1508eb6-4d04-48b4-adfa-1eed3b26d88b",
   "metadata": {},
   "source": [
    "6). A complex number is a combination of real and imaginary numbers. eg:- 4+5i\n",
    "\n",
    "In python it is represented in the same way."
   ]
  },
  {
   "cell_type": "markdown",
   "id": "dfb6c124-690c-45ac-b9ca-6b0e5edfead0",
   "metadata": {},
   "source": [
    "complex_num = 4+5j\n",
    "print(complex_num.real)\n",
    "print(complex_num.imag)"
   ]
  },
  {
   "cell_type": "markdown",
   "id": "9e57eeed-4ea4-455a-9820-8022397c9465",
   "metadata": {},
   "source": [
    "7). Varible assigning"
   ]
  },
  {
   "cell_type": "code",
   "execution_count": 21,
   "id": "ebb0e699-b770-4949-9231-2921ee194443",
   "metadata": {},
   "outputs": [
    {
     "name": "stdout",
     "output_type": "stream",
     "text": [
      "25\n"
     ]
    }
   ],
   "source": [
    "age = 25\n",
    "print(age)"
   ]
  },
  {
   "cell_type": "markdown",
   "id": "c5c90287-5394-46b7-b4d9-96456581c911",
   "metadata": {},
   "source": [
    "8). the value 9.99 is a float"
   ]
  },
  {
   "cell_type": "code",
   "execution_count": 22,
   "id": "7b503dee-4812-4ec0-8815-6de57f3db2f8",
   "metadata": {},
   "outputs": [],
   "source": [
    "price = 9.99"
   ]
  },
  {
   "cell_type": "code",
   "execution_count": 23,
   "id": "9432f9f0-3037-42c7-8426-d5dc85ccb830",
   "metadata": {},
   "outputs": [
    {
     "data": {
      "text/plain": [
       "float"
      ]
     },
     "execution_count": 23,
     "metadata": {},
     "output_type": "execute_result"
    }
   ],
   "source": [
    "type(price)"
   ]
  },
  {
   "cell_type": "code",
   "execution_count": 24,
   "id": "5dbe3417-2a91-47d2-92ed-fe5a4c675421",
   "metadata": {},
   "outputs": [
    {
     "name": "stdout",
     "output_type": "stream",
     "text": [
      "Arman Ahmad\n"
     ]
    }
   ],
   "source": [
    "# 9).\n",
    "\n",
    "name = \"Arman Ahmad\"\n",
    "print(name)"
   ]
  },
  {
   "cell_type": "code",
   "execution_count": 26,
   "id": "261a2a2e-31f1-4cc2-93ff-08a4589289d2",
   "metadata": {},
   "outputs": [
    {
     "data": {
      "text/plain": [
       "'world'"
      ]
     },
     "execution_count": 26,
     "metadata": {},
     "output_type": "execute_result"
    }
   ],
   "source": [
    "# 10). Slicing will be used here\n",
    "\n",
    "string = \"Hello, world!\"\n",
    "string[7:12]"
   ]
  },
  {
   "cell_type": "code",
   "execution_count": 32,
   "id": "bed3a03a-a831-4c74-9ee6-4bd8c4631dda",
   "metadata": {},
   "outputs": [
    {
     "name": "stdout",
     "output_type": "stream",
     "text": [
      "you are you a student: True \n"
     ]
    }
   ],
   "source": [
    "#  11). Boolean\n",
    "\n",
    "is_student = True\n",
    "print(\"you are you a student: {} \".format(is_student))"
   ]
  },
  {
   "cell_type": "code",
   "execution_count": null,
   "id": "123502c6-7d2a-4665-ab88-d0014d4207dd",
   "metadata": {},
   "outputs": [],
   "source": []
  }
 ],
 "metadata": {
  "kernelspec": {
   "display_name": "Python 3 (ipykernel)",
   "language": "python",
   "name": "python3"
  },
  "language_info": {
   "codemirror_mode": {
    "name": "ipython",
    "version": 3
   },
   "file_extension": ".py",
   "mimetype": "text/x-python",
   "name": "python",
   "nbconvert_exporter": "python",
   "pygments_lexer": "ipython3",
   "version": "3.10.8"
  }
 },
 "nbformat": 4,
 "nbformat_minor": 5
}
