{
 "cells": [
  {
   "cell_type": "markdown",
   "id": "90dbdbb4-464b-4e92-9079-f38798875faf",
   "metadata": {},
   "source": [
    "### Q1). What is multithreading in python? Why is it used? Name the module used to handle threads in python."
   ]
  },
  {
   "cell_type": "markdown",
   "id": "d190c650-e3b7-4fb2-83bf-14db4375c86c",
   "metadata": {},
   "source": [
    "Multithreading is a process which refers to concurrent execution of multiple threads in a process. A thread is a smallest unit of execution within a process. By using multiple threads, a program can perform several tasks simultaneously, potentially improving performance and responsiveness, especially for I/O bound operations."
   ]
  },
  {
   "cell_type": "markdown",
   "id": "ac8daf61-1e7e-481c-9680-d071141d748f",
   "metadata": {},
   "source": [
    "Multithreading is Used for -\n",
    "\n",
    "- Concurrency: Multithreading allows a program to handle multiple tasks at the same time. This is useful for applications that need to perform several operations simultaneously, such as handling multiple user requests or processing different parts of data.\n",
    "- Responsiveness: In user interface (UI) applications, multithreading can keep the application responsive by performing time-consuming tasks (like file downloads or network operations) in the background, thus preventing the UI from freezing.\n",
    "- I/O-Bound Operations: For tasks that involve waiting for I/O operations (like network requests, file reading/writing, etc.), multithreading can be particularly effective. Threads can wait for I/O operations to complete while allowing other threads to continue processing.\n",
    "- Resource Utilization: By using multiple threads, a program can better utilize the CPU resources, especially when tasks can be performed concurrently."
   ]
  },
  {
   "cell_type": "markdown",
   "id": "477ee59f-2072-4337-a210-adcbcdf81fd7",
   "metadata": {},
   "source": [
    "The module used to handle threads in Python is the threading module. This module provides a higher-level interface for creating and managing threads."
   ]
  },
  {
   "cell_type": "code",
   "execution_count": 1,
   "id": "13e77b98-fd27-4180-a4cb-585207753386",
   "metadata": {},
   "outputs": [
    {
     "name": "stdout",
     "output_type": "stream",
     "text": [
      "Number: 0\n",
      "Letter: a\n",
      "Number: 1Letter: b\n",
      "\n",
      "Letter: cNumber: 2\n",
      "\n",
      "Number: 3Letter: d\n",
      "\n",
      "Letter: e\n",
      "Number: 4\n",
      "Both threads have finished.\n"
     ]
    }
   ],
   "source": [
    "import threading\n",
    "import time\n",
    "\n",
    "def print_numbers():\n",
    "    for i in range(5):\n",
    "        print(f\"Number: {i}\")\n",
    "        time.sleep(1)\n",
    "\n",
    "def print_letters():\n",
    "    for letter in 'abcde':\n",
    "        print(f\"Letter: {letter}\")\n",
    "        time.sleep(1)\n",
    "\n",
    "# Create threads\n",
    "thread1 = threading.Thread(target=print_numbers)\n",
    "thread2 = threading.Thread(target=print_letters)\n",
    "\n",
    "# Start threads\n",
    "thread1.start()\n",
    "thread2.start()\n",
    "\n",
    "# Wait for both threads to finish\n",
    "thread1.join()\n",
    "thread2.join()\n",
    "\n",
    "print(\"Both threads have finished.\")\n"
   ]
  },
  {
   "cell_type": "markdown",
   "id": "49262c8e-08ce-4064-978a-51c5e71ec860",
   "metadata": {},
   "source": [
    "### Q2. Why threading module used? Write the use of the following functions -\n",
    "    1. activeCount\n",
    "    2. currentThread\n",
    "    3. enumerate"
   ]
  },
  {
   "cell_type": "markdown",
   "id": "b97dc01e-f79b-44b2-93a8-8f52c1ea30fc",
   "metadata": {},
   "source": [
    "Purpose of the threading Module\n",
    "\n",
    "1. Concurrency: Allows multiple tasks to be performed concurrently, improving efficiency and responsiveness, especially for I/O-bound tasks.\n",
    "2. Parallelism: Enables execution of tasks in parallel to utilize system resources effectively, although Python’s Global Interpreter Lock (GIL) can limit parallel execution of Python bytecode.\n",
    "3. Simplified Thread Management: Provides a more intuitive API for creating and managing threads compared to lower-level modules."
   ]
  },
  {
   "cell_type": "code",
   "execution_count": 2,
   "id": "177b9991-cf6a-46db-b7c3-a6fca1c2d754",
   "metadata": {},
   "outputs": [
    {
     "name": "stdout",
     "output_type": "stream",
     "text": [
      "Active threads: 13\n",
      "Active threads after joining: 8\n"
     ]
    }
   ],
   "source": [
    "## 1. active_count()\n",
    "'''Purpose: Returns the number of Thread objects currently alive.\n",
    "This is useful for checking how many threads are active at a given point in time.'''\n",
    "\n",
    "import threading\n",
    "import time\n",
    "\n",
    "def worker():\n",
    "    time.sleep(2)\n",
    "\n",
    "threads = [threading.Thread(target=worker) for _ in range(5)]\n",
    "for thread in threads:\n",
    "    thread.start()\n",
    "\n",
    "print(f\"Active threads: {threading.active_count()}\")\n",
    "\n",
    "for thread in threads:\n",
    "    thread.join()\n",
    "\n",
    "print(f\"Active threads after joining: {threading.active_count()}\")\n",
    "\n"
   ]
  },
  {
   "cell_type": "code",
   "execution_count": 3,
   "id": "741b5202-050f-44df-8fea-e9c69189049e",
   "metadata": {},
   "outputs": [
    {
     "name": "stdout",
     "output_type": "stream",
     "text": [
      "Current thread: WorkerThread\n"
     ]
    }
   ],
   "source": [
    "## 2. current_thread()\n",
    "'''Purpose: Returns the current Thread object,which represents the thread\n",
    "that is currently executing. This is useful for getting information \n",
    "about the thread that is running the current code.'''\n",
    "\n",
    "import threading\n",
    "\n",
    "def print_thread_info():\n",
    "    current = threading.current_thread()\n",
    "    print(f\"Current thread: {current.name}\")\n",
    "\n",
    "# Create and start a thread\n",
    "thread = threading.Thread(target=print_thread_info, name='WorkerThread')\n",
    "thread.start()\n",
    "thread.join()"
   ]
  },
  {
   "cell_type": "code",
   "execution_count": 4,
   "id": "b52eb6ac-875a-4128-a459-f6b77f9d658e",
   "metadata": {},
   "outputs": [
    {
     "name": "stdout",
     "output_type": "stream",
     "text": [
      "Active threads:\n",
      "MainThread\n",
      "IOPub\n",
      "Heartbeat\n",
      "Thread-3 (_watch_pipe_fd)\n",
      "Thread-4 (_watch_pipe_fd)\n",
      "Control\n",
      "IPythonHistorySavingThread\n",
      "Thread-2\n",
      "Thread-12 (worker)\n",
      "Thread-13 (worker)\n",
      "Thread-14 (worker)\n",
      "Thread-15 (worker)\n",
      "Thread-16 (worker)\n"
     ]
    }
   ],
   "source": [
    "## 3. enumerate()\n",
    "'''Purpose: Returns a list of all Thread objects currently alive.\n",
    "This includes all threads that have been started but not yet completed.'''\n",
    "\n",
    "import threading\n",
    "import time\n",
    "\n",
    "def worker():\n",
    "    time.sleep(2)\n",
    "\n",
    "# Create and start threads\n",
    "threads = [threading.Thread(target=worker) for _ in range(5)]\n",
    "for thread in threads:\n",
    "    thread.start()\n",
    "\n",
    "# List all active threads\n",
    "all_threads = threading.enumerate()\n",
    "print(\"Active threads:\")\n",
    "for thread in all_threads:\n",
    "    print(thread.name)\n",
    "\n",
    "# Wait for all threads to finish\n",
    "for thread in threads:\n",
    "    thread.join()\n"
   ]
  },
  {
   "cell_type": "markdown",
   "id": "75bb7ace-bc43-4654-b0e3-475a668d2e26",
   "metadata": {},
   "source": [
    "### 3. Explain the following functions-\n",
    "        1. run()\n",
    "        2. start()\n",
    "        3. join()\n",
    "        4. isAlive()"
   ]
  },
  {
   "cell_type": "markdown",
   "id": "f9d22961-5adf-4cdf-99dd-2138c39c3e7e",
   "metadata": {},
   "source": [
    "The above methods are fundamental for thread management and control.\n",
    "\n",
    "1. run(): The run() method contains the code that will be executed in a thread. It is the entry point for the thread’s activity.Typically, you override this method in a subclass of threading.Thread to define the thread’s behavior.\n",
    "\n",
    "2. start(): The start() method starts a thread’s activity. It sets up the thread’s execution environment and calls the run() method.This method should be called after creating a Thread object to begin the thread’s execution.\n",
    "\n",
    "3. join() :The join() method blocks the calling thread until the thread whose join() method is called terminates. It is used to wait for the thread to complete its execution.Typically used to ensure that the main program or another thread waits for a particular thread to finish before continuing.\n",
    "\n",
    "4. is_alive() :The is_alive() method checks whether the thread is still alive (i.e., if it has been started and has not yet completed).Used to determine if a thread is still running or if it has finished execution.\n"
   ]
  },
  {
   "cell_type": "markdown",
   "id": "20b596ed-0ee4-41d3-b650-fdfcee6811c5",
   "metadata": {},
   "source": [
    "### Q4. Write a python program to create two threads. Thread one must print the list of squares and thread two must print the list of cubes."
   ]
  },
  {
   "cell_type": "code",
   "execution_count": 5,
   "id": "c4a895e2-f0f2-4d66-8153-c800ce1b830b",
   "metadata": {},
   "outputs": [
    {
     "name": "stdout",
     "output_type": "stream",
     "text": [
      "the sqare of a is : 4\n",
      "the sqare of a is : 9\n",
      "the sqare of a is : 16\n",
      "the sqare of a is : 25\n",
      "the cube of given values: 8 \n",
      "the cube of given values: 27 \n",
      "the cube of given values: 64 \n",
      "the cube of given values: 125 \n"
     ]
    }
   ],
   "source": [
    "import threading\n",
    "# creating function for square\n",
    "def square(a):\n",
    "    b = a**2\n",
    "    print(f\"the sqare of a is : {b}\")\n",
    "thread1 =[ threading.Thread(target=square, args =(i, )) for i in [2,3,4,5]]\n",
    "for t in thread1:\n",
    "    t.start()\n",
    "    \n",
    "# creating function for cube \n",
    "def cube(a):\n",
    "    c = a**3\n",
    "    print(f\"the cube of given values: {c} \")\n",
    "    \n",
    "threading2 = [threading.Thread(target=cube, args= (i, )) for i in [2,3,4,5]]\n",
    "for y in threading2:\n",
    "    y.start()"
   ]
  },
  {
   "cell_type": "markdown",
   "id": "b32cd00a-a579-4897-8cda-c645fcc5de56",
   "metadata": {},
   "source": [
    "### Q5. State advantages and disadvantages of multithreading."
   ]
  },
  {
   "cell_type": "markdown",
   "id": "d01fa2e0-02f8-4748-ab68-2ee9f7317d62",
   "metadata": {},
   "source": [
    "Advantages:\n",
    "- __Improved Responsiveness__: Keeps applications responsive by offloading tasks.\n",
    "- __Concurrency__: Executes multiple tasks simultaneously.\n",
    "- __Resource Sharing__: Efficiently shares memory and resources among threads.\n",
    "- __Multi-Core Utilization__: Leverages multi-core processors for performance gains.\n",
    "- __Simplified Design__: Facilitates natural concurrent task management.\n",
    "\n",
    "Disadvantages:\n",
    "- __Complexity__: Increases the complexity of program design and debugging.\n",
    "- __GIL Limitation__: In CPython, limits parallel execution for CPU-bound tasks.\n",
    "- __Overhead__: Adds memory and CPU overhead, potentially reducing performance.\n",
    "- __Synchronization Issues__: Requires careful synchronization to avoid race conditions.\n",
    "- __Debugging Difficulty__: Makes debugging more challenging due to timing issues and non-deterministic behavior."
   ]
  },
  {
   "cell_type": "markdown",
   "id": "90f39a55-a03e-478f-b7b0-893110e0900d",
   "metadata": {},
   "source": [
    "### Q6. Explain deadlocks and race conditions."
   ]
  },
  {
   "cell_type": "markdown",
   "id": "d5840935-fa07-403b-a319-4d912cda6279",
   "metadata": {},
   "source": [
    "Deadlocks:\n",
    "\n",
    "- Definition: A situation where threads are stuck waiting for each other, resulting in a standstill.\n",
    "- Conditions: Mutual exclusion, hold and wait, no preemption, circular wait. \n",
    "- Example: Two threads waiting for each other’s resources.\n",
    "Prevention: Resource ordering, timeouts, deadlock detection.\n",
    "\n",
    "Race Conditions:\n",
    "\n",
    "Definition: An issue where the outcome depends on the timing or order of thread execution, leading to unpredictable results.\n",
    "Example: Concurrent updates to a shared counter without proper synchronization.\n",
    "Prevention: Use locks, atomic operations, avoid shared state."
   ]
  },
  {
   "cell_type": "code",
   "execution_count": null,
   "id": "701af79d-f179-4d24-9ce3-4c32d7f4c8a8",
   "metadata": {},
   "outputs": [],
   "source": []
  }
 ],
 "metadata": {
  "kernelspec": {
   "display_name": "Python 3 (ipykernel)",
   "language": "python",
   "name": "python3"
  },
  "language_info": {
   "codemirror_mode": {
    "name": "ipython",
    "version": 3
   },
   "file_extension": ".py",
   "mimetype": "text/x-python",
   "name": "python",
   "nbconvert_exporter": "python",
   "pygments_lexer": "ipython3",
   "version": "3.10.8"
  }
 },
 "nbformat": 4,
 "nbformat_minor": 5
}
