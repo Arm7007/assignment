{
 "cells": [
  {
   "cell_type": "markdown",
   "id": "e87fd4ea-f247-4a88-8b8a-2fb703388c73",
   "metadata": {},
   "source": [
    "Q1).Create a python program to sort the given list of tuples based on integer value using a lambda function. \n"
   ]
  },
  {
   "cell_type": "code",
   "execution_count": 1,
   "id": "1ad88b5f-30b2-4ea3-a53a-e1bd3fac938d",
   "metadata": {},
   "outputs": [
    {
     "name": "stdout",
     "output_type": "stream",
     "text": [
      "[('Virat Kohli', 24936), ('Jack Kallis', 25534), ('Ricky Ponting', 27483), ('Sachin Tendulkar', 34357)]\n"
     ]
    }
   ],
   "source": [
    "lst = [('Sachin Tendulkar', 34357), ('Ricky Ponting', 27483), ('Jack Kallis', 25534), ('Virat Kohli', 24936)]\n",
    "lst.sort(key = lambda x: x[1])\n",
    "print(lst)"
   ]
  },
  {
   "cell_type": "code",
   "execution_count": 4,
   "id": "9be1aeba-1697-4792-be10-06170c278d89",
   "metadata": {},
   "outputs": [
    {
     "name": "stdout",
     "output_type": "stream",
     "text": [
      "[('Virat Kohli', 24936), ('Jack Kallis', 25534), ('Ricky Ponting', 27483), ('Sachin Tendulkar', 34357)]\n"
     ]
    }
   ],
   "source": [
    "## another way: with the help of \"sorted\" function\n",
    "\n",
    "in_ascending = sorted(lst, key = lambda x: x[1])\n",
    "print (in_ascending)"
   ]
  },
  {
   "cell_type": "markdown",
   "id": "13de981a-1c8c-4b4a-9952-6d3c071a4eb0",
   "metadata": {},
   "source": [
    "Q2).Write a Python Program to find the squares of all the numbers in the given list of integers using \n",
    "lambda and map functions.\n"
   ]
  },
  {
   "cell_type": "code",
   "execution_count": 7,
   "id": "38cbb592-7565-4516-9c29-30f0be5c64ac",
   "metadata": {},
   "outputs": [
    {
     "data": {
      "text/plain": [
       "[1, 4, 9, 16, 25, 36, 49, 64, 81, 100]"
      ]
     },
     "execution_count": 7,
     "metadata": {},
     "output_type": "execute_result"
    }
   ],
   "source": [
    "lst1 = [1, 2, 3, 4, 5, 6, 7, 8, 9, 10]\n",
    "list(map(lambda x : x**2 , lst1))"
   ]
  },
  {
   "cell_type": "markdown",
   "id": "dc6648fe-927a-4a0b-9355-f87f796211f6",
   "metadata": {},
   "source": [
    "Q3). Write a python program to convert the given list of integers into a tuple of strings. Use map and lambda functions\n"
   ]
  },
  {
   "cell_type": "code",
   "execution_count": 8,
   "id": "075b0261-390f-457b-a7b5-e2a001663a90",
   "metadata": {},
   "outputs": [
    {
     "data": {
      "text/plain": [
       "('1', '2', '3', '4', '5', '6', '7', '8', '9', '10')"
      ]
     },
     "execution_count": 8,
     "metadata": {},
     "output_type": "execute_result"
    }
   ],
   "source": [
    "Given_list = [1, 2, 3, 4, 5, 6, 7, 8, 9, 10]\n",
    "tuple(map(lambda x: str(x), Given_list))"
   ]
  },
  {
   "cell_type": "markdown",
   "id": "d0bc5332-1876-45ff-9a1a-0017242c262e",
   "metadata": {},
   "source": [
    "Q4).  Write a python program using reduce function to compute the product of a list containing numbers from 1 to 25."
   ]
  },
  {
   "cell_type": "code",
   "execution_count": 13,
   "id": "50da7d92-6887-4253-baa7-cf7a4a17bb27",
   "metadata": {},
   "outputs": [
    {
     "data": {
      "text/plain": [
       "15511210043330985984000000"
      ]
     },
     "execution_count": 13,
     "metadata": {},
     "output_type": "execute_result"
    }
   ],
   "source": [
    "from functools import reduce \n",
    "\n",
    "lst2 = list(range(1,26))\n",
    "reduce(lambda x,y : x*y, lst2)"
   ]
  },
  {
   "cell_type": "markdown",
   "id": "1f99dc2d-2253-481d-83ca-5ed8ca414d0d",
   "metadata": {},
   "source": [
    "Q5). Write a python program to filter the numbers in a given list that are divisible by 2 and 3 using the \n",
    "filter function.\n"
   ]
  },
  {
   "cell_type": "code",
   "execution_count": 21,
   "id": "b6b9ac7a-00b7-4138-98dd-bce7b4ee7565",
   "metadata": {},
   "outputs": [
    {
     "name": "stdout",
     "output_type": "stream",
     "text": [
      "Numbers divisible by 2:\n",
      "[2, 6, 60, 90, 120, 46]\n",
      "numbers divisible by 3\n",
      "[3, 6, 9, 27, 60, 90, 120]\n"
     ]
    }
   ],
   "source": [
    "lst3 = [2, 3, 6, 9, 27, 60, 90, 120, 55, 46]\n",
    "print(\"Numbers divisible by 2:\")\n",
    "a = list(filter(lambda x : x%2 ==0 , lst3))\n",
    "print(a)\n",
    "\n",
    "#Divisible by 3\n",
    "print(\"numbers divisible by 3\")\n",
    "b = list(filter(lambda x : x%3 == 0, lst3))\n",
    "print(b)"
   ]
  },
  {
   "cell_type": "markdown",
   "id": "80207777-b8a5-4236-9d49-3c49ed55fccd",
   "metadata": {},
   "source": [
    "Q6). Write a python program to find palindromes in the given list of strings using lambda and filter function."
   ]
  },
  {
   "cell_type": "code",
   "execution_count": 11,
   "id": "d2d685e6-989f-46e9-894b-acf39370fc57",
   "metadata": {},
   "outputs": [
    {
     "name": "stdout",
     "output_type": "stream",
     "text": [
      "the palindrome of given list :['php', 'aba', 'radar', 'level']\n"
     ]
    }
   ],
   "source": [
    "lst4 = ['python', 'php', 'aba', 'radar', 'level']\n",
    "palin = list(filter(lambda x : x == ''.join(reversed(x)), lst4))\n",
    "print(f\"the palindrome of given list :{palin}\")"
   ]
  },
  {
   "cell_type": "code",
   "execution_count": null,
   "id": "cfc8fbd7-0905-4b93-bf99-14fda18f23c7",
   "metadata": {},
   "outputs": [],
   "source": []
  }
 ],
 "metadata": {
  "kernelspec": {
   "display_name": "Python 3 (ipykernel)",
   "language": "python",
   "name": "python3"
  },
  "language_info": {
   "codemirror_mode": {
    "name": "ipython",
    "version": 3
   },
   "file_extension": ".py",
   "mimetype": "text/x-python",
   "name": "python",
   "nbconvert_exporter": "python",
   "pygments_lexer": "ipython3",
   "version": "3.10.8"
  }
 },
 "nbformat": 4,
 "nbformat_minor": 5
}
