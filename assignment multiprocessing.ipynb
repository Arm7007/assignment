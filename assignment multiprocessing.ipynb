{
 "cells": [
  {
   "cell_type": "markdown",
   "id": "cfc1398d-b263-4811-947c-547e4bcb3305",
   "metadata": {},
   "source": [
    "### Q1. What is multiprocessing in python? Why is it useful?"
   ]
  },
  {
   "cell_type": "markdown",
   "id": "f8550ff9-9f64-4633-b76f-4947808df5d4",
   "metadata": {},
   "source": [
    "While executing a big code, system may take more time and delay the output. To overcome this, multiprocessing is being used. In a system there are multiple processors (dual core : two processors, ocata core : eight processors etc), these processors are used simultaneously which ultimately imrove the speed of execution of code , resultantely reduce the time taken to excute the code by utelization of multipule processors of the system."
   ]
  },
  {
   "cell_type": "markdown",
   "id": "1581d1e1-6046-4455-80ff-b2324e480202",
   "metadata": {},
   "source": [
    "### Q2. What are the differences between multiprocessing and multithreading?\n"
   ]
  },
  {
   "cell_type": "markdown",
   "id": "60636938-32bf-45fa-8d73-629c1229b085",
   "metadata": {},
   "source": [
    "Multiprocessing and multithreading are both techniques used to achieve concurrent execution, but they differ in their approach and use cases. Here are the key differences between them:\n",
    "\n",
    "1. Process vs. Thread\n",
    "\n",
    "Multiprocessing: Involves multiple processes. Each process has its own memory space, resources, and execution context. Processes run independently and are managed by the operating system.\n",
    "\n",
    "Multithreading: Involves multiple threads within a single process. Threads share the same memory space and resources but have their own execution contexts. They are managed by the runtime environment or the operating system.\n",
    "\n",
    "2. Memory Management\n",
    "\n",
    "Multiprocessing: Each process has its own separate memory space. This isolation helps avoid conflicts and makes processes more robust, as one process crashing doesn’t affect others.\n",
    "\n",
    "Multithreading: Threads share the same memory space and resources of their parent process. This can lead to issues like race conditions if multiple threads access shared data concurrently without proper synchronization.\n",
    "\n",
    "3. Performance and Overhead\n",
    "\n",
    "Multiprocessing: Typically incurs more overhead because of the need for process creation and inter-process communication (IPC). However, it can utilize multiple CPUs or cores effectively, as processes run in parallel on separate CPUs.\n",
    "\n",
    "Multithreading: Generally has lower overhead compared to multiprocessing because threads are lighter weight and share the same memory. However, because threads share memory, managing concurrency can become complex.\n",
    "\n",
    "4. Inter-Process Communication (IPC) vs. Thread Communication\n",
    "\n",
    "Multiprocessing: Requires IPC mechanisms like pipes, queues, or shared memory for processes to communicate with each other. IPC can be slower due to the need for serialization and synchronization.\n",
    "\n",
    "Multithreading: Communication between threads is simpler since they share the same memory space. Threads can directly access shared variables and data structures, but this requires careful synchronization to avoid data corruption.\n",
    "\n",
    "5. Use Cases\n",
    "\n",
    "Multiprocessing: Ideal for tasks that require significant CPU resources and are independent of each other. Suitable for parallelizing tasks that are CPU-bound and need true parallelism, such as complex calculations or data processing tasks.\n",
    "\n",
    "Multithreading: Suitable for I/O-bound tasks or tasks that involve waiting (e.g., network operations, file operations). It’s often used in applications where responsiveness and efficiency are critical, such as web servers or applications with a lot of concurrent operations.\n",
    "\n",
    "6. Fault Tolerance\n",
    "\n",
    "Multiprocessing: More fault-tolerant because processes are isolated from each other. If one process crashes, it doesn’t necessarily affect other processes.\n",
    "\n",
    "Multithreading: Less fault-tolerant because threads within the same process are more interdependent. A crash or bug in one thread can potentially affect the entire process."
   ]
  },
  {
   "cell_type": "markdown",
   "id": "81793772-7ce5-40da-a776-cbfceb761561",
   "metadata": {},
   "source": [
    "### Q3. Write a python code to create a process using the multiprocessing module.\n"
   ]
  },
  {
   "cell_type": "code",
   "execution_count": 5,
   "id": "4a26c666-20a9-4359-89c5-3ab816c63401",
   "metadata": {},
   "outputs": [
    {
     "name": "stdout",
     "output_type": "stream",
     "text": [
      " this is the end of process of multiprocessing\n",
      "this is the start of multirocessing\n"
     ]
    }
   ],
   "source": [
    "import multiprocessing\n",
    "\n",
    "def circular():\n",
    "    print(\"this is the start of multirocessing\")\n",
    "    \n",
    "    \n",
    "if __name__ == \"__main__\":\n",
    "    q = multiprocessing.Process(target=circular)\n",
    "    print(\" this is the end of process of multiprocessing\")\n",
    "    q.start()\n",
    "    q.join()"
   ]
  },
  {
   "cell_type": "markdown",
   "id": "a8371922-5bce-4635-9e21-2cce40aef5cf",
   "metadata": {},
   "source": [
    "### Q4. What is a multiprocessing pool in python? Why is it used?\n"
   ]
  },
  {
   "cell_type": "markdown",
   "id": "80e2cd5f-21f9-41a5-b121-0ea1772a9782",
   "metadata": {},
   "source": [
    "A multiprocessing.Pool in Python provides a convenient way to manage a pool of worker processes that can be used to perform parallel computation. It simplifies the process of distributing tasks among multiple processes and gathering the results.\n",
    "\n",
    "Key Features and Benefits of Using multiprocessing.Pool\n",
    "1. Parallel Execution: It allows you to execute a function across multiple input values in parallel, which can significantly speed up computations that are CPU-bound.\n",
    "\n",
    "2. Task Distribution: The pool handles the distribution of tasks among the available processes, which can simplify the code compared to manually creating and managing individual processes.\n",
    "\n",
    "3. Efficient Resource Management: By using a pool of worker processes, you can efficiently manage and reuse resources, avoiding the overhead of creating and destroying processes frequently.\n",
    "\n",
    "__Common Use Cases__\n",
    "- Data Processing: When you need to apply a function to a large dataset and can parallelize the operation.\n",
    "- Computational Tasks: Tasks that can be divided into smaller independent computations, such as numerical simulations or complex calculations."
   ]
  },
  {
   "cell_type": "code",
   "execution_count": 7,
   "id": "ac51567f-254c-4e68-8209-eedf54c428eb",
   "metadata": {},
   "outputs": [
    {
     "name": "stdout",
     "output_type": "stream",
     "text": [
      "[4, 9, 16, 25, 36, 49, 64]\n"
     ]
    }
   ],
   "source": [
    "import multiprocessing\n",
    "\n",
    "def square(a):\n",
    "    return a**2\n",
    "\n",
    "if __name__ == \"__main__\":\n",
    "    with multiprocessing.Pool(processes=8) as pool:\n",
    "        result = pool.map(square, [2,3,4,5,6,7,8])\n",
    "        print( result)"
   ]
  },
  {
   "cell_type": "markdown",
   "id": "73e97550-473a-46fa-a44c-9d04711d4773",
   "metadata": {},
   "source": [
    "### Q5. How can we create a pool of worker processes in python using the multiprocessing module?\n"
   ]
  },
  {
   "cell_type": "markdown",
   "id": "0dc40c41-1a62-40bd-9456-b5dd0b661032",
   "metadata": {},
   "source": [
    "To create a pool of worker processors , one is needed to use methods like map(), apply(), or starmap() to distribute tasks across the pool.\n",
    "\n"
   ]
  },
  {
   "cell_type": "code",
   "execution_count": 4,
   "id": "ecebffdd-e0de-4944-88de-fd3c7f996f05",
   "metadata": {},
   "outputs": [
    {
     "name": "stdout",
     "output_type": "stream",
     "text": [
      "[1.0, 2.0, 3.0, 3.9999999999999996, 4.999999999999999, 5.999999999999999, 6.999999999999999]\n"
     ]
    }
   ],
   "source": [
    "## with the use of map()\n",
    "\n",
    "import multiprocessing\n",
    "\n",
    "def cube_root(n):\n",
    "    return n**(1/3)\n",
    "\n",
    "if __name__ == \"__main__\":\n",
    "    with multiprocessing.Pool(processes=4) as pool:\n",
    "        output = pool.map(cube_root, [1,8,27,64,125,216,343])\n",
    "        print(output)"
   ]
  },
  {
   "cell_type": "code",
   "execution_count": 23,
   "id": "274409c4-be4c-493e-99c0-00ba934639cf",
   "metadata": {},
   "outputs": [
    {
     "name": "stdout",
     "output_type": "stream",
     "text": [
      "[529, 1089, 1936, 25, 4489, 36]\n"
     ]
    }
   ],
   "source": [
    "# with the use of apply_async()\n",
    "\n",
    "import multiprocessing\n",
    "import time\n",
    "\n",
    "def sqre(x):\n",
    "    time.sleep(1)\n",
    "    return x*x\n",
    "\n",
    "if __name__ == \"__main__\":\n",
    "    numbers = [23,33,44,5,67,6]\n",
    "\n",
    "    # Create a pool of worker processes\n",
    "    with multiprocessing.Pool(processes=4) as pool:\n",
    "        # Use apply_async to process numbers asynchronously\n",
    "        results = [pool.apply_async(sqre, (n,)) for n in numbers]\n",
    "\n",
    "        # Retrieve the results\n",
    "        results = [result.get() for result in results]\n",
    "\n",
    "    # Print the results\n",
    "    print(results)\n",
    "\n",
    "        \n",
    "     "
   ]
  },
  {
   "cell_type": "markdown",
   "id": "8105aea4-b522-48f9-a833-dc900cf5885d",
   "metadata": {},
   "source": [
    "### Q6. Write a python program to create 4 processes, each process should print a different number using the multiprocessing module in python."
   ]
  },
  {
   "cell_type": "code",
   "execution_count": 29,
   "id": "b52d051b-3dea-45d1-9a6f-b6f47baec4a3",
   "metadata": {},
   "outputs": [
    {
     "name": "stdout",
     "output_type": "stream",
     "text": [
      "the number 1 is : 1\n",
      "the number 2 is : 2\n",
      "the number 3 is : 3\n",
      "the number 4 is : 4\n",
      "the process has been completed\n"
     ]
    }
   ],
   "source": [
    "import multiprocessing\n",
    "\n",
    "def print_num(n):\n",
    "    print(f\"the number {n} is : {n}\")\n",
    "    \n",
    "if __name__ == \"__main__\":\n",
    "    num = [1,2,3,4]\n",
    "    process = []\n",
    "    for n in num:\n",
    "        p = multiprocessing.Process(target=print_num, args= (n,))\n",
    "        process.append(p)\n",
    "\n",
    "        p.start()\n",
    "        p.join()\n",
    "\n",
    "    print(\"the process has been completed\")\n",
    "    "
   ]
  },
  {
   "cell_type": "code",
   "execution_count": null,
   "id": "78ceff8c-90b0-439c-95e3-6af63bb7022b",
   "metadata": {},
   "outputs": [],
   "source": []
  }
 ],
 "metadata": {
  "kernelspec": {
   "display_name": "Python 3 (ipykernel)",
   "language": "python",
   "name": "python3"
  },
  "language_info": {
   "codemirror_mode": {
    "name": "ipython",
    "version": 3
   },
   "file_extension": ".py",
   "mimetype": "text/x-python",
   "name": "python",
   "nbconvert_exporter": "python",
   "pygments_lexer": "ipython3",
   "version": "3.10.8"
  }
 },
 "nbformat": 4,
 "nbformat_minor": 5
}
